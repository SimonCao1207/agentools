{
 "cells": [
  {
   "cell_type": "markdown",
   "metadata": {},
   "source": [
    "# 1. Introduction\n",
    "\n",
    "`agentools` is a lightweight and flexible library designed for building smart agent assistants across various industries. Whether you're creating an AI-powered customer service bot, a data analysis assistant, or a domain-specific automation agent, agentools provides a simple yet powerful foundation.\n",
    "\n",
    "With its modular tool system, you can easily extend your agent's capabilities by integrating a wide range of tools. Each tool is self-contained, well-documented, and can be registered dynamically—making it effortless to scale and adapt your agent to new tasks or environments.\n",
    "\n",
    "![](https://imgur.com/s8SlWbR.png)"
   ]
  },
  {
   "cell_type": "markdown",
   "metadata": {},
   "source": [
    "To install and use this library please following:\n",
    "\n",
    "```\n",
    "git clone https://github.com/agentools\n",
    "poetry install\n",
    "```"
   ]
  },
  {
   "cell_type": "markdown",
   "metadata": {},
   "source": [
    "# 2. Set up Agent\n",
    "\n",
    "`agentools` is a flexible library for creating intelligent agents. You can configure your agent with tools, each encapsulated in a Python module under `agentools.tools`. This provides a workspace of tools that agents can use to interact with and operate in the realistic world. Each tool is a Python file with full documentation and it can be independently ran. For example, the `agentools.tools.websearch_tools` module contains code for interacting with a search API.\n",
    "\n",
    "```\n",
    "import os\n",
    "from dotenv import load_dotenv\n",
    "from tavily import TavilyClient\n",
    "from dataclasses import dataclass\n",
    "from typing import Union, Any\n",
    "_ = load_dotenv()\n",
    "\n",
    "@dataclass\n",
    "class WebSearchClient():\n",
    "    # connect\n",
    "    tavily_client = TavilyClient(api_key=os.environ.get(\"TAVILY_API_KEY\"))\n",
    "    # run search\n",
    "\n",
    "    def call_api(self, query: Union[str, dict[str, str]]):\n",
    "        if isinstance(query, dict):\n",
    "            query_string = \"\\n\".join([f\"{k}: {v}\" for (k, v) in query.items()])\n",
    "        else:\n",
    "            query_string = query\n",
    "        result = self.tavily_client.search(query_string,\n",
    "                               include_answer=True)\n",
    "        # print the answer\n",
    "        return result[\"answer\"]\n",
    "\n",
    "def search_api(query: Union[str, dict[str, str]]) -> Any:\n",
    "    \"\"\"\n",
    "    Search for an answer from a query string\n",
    "    Args:\n",
    "        query (dict[str, str]):  The input query to search\n",
    "    Returns:\n",
    "        The answer from search query\n",
    "    \"\"\"\n",
    "    client = WebSearchClient()\n",
    "    answer = client.call_api(query)\n",
    "    return answer\n",
    "```\n"
   ]
  },
  {
   "cell_type": "code",
   "execution_count": null,
   "metadata": {},
   "outputs": [
    {
     "name": "stderr",
     "output_type": "stream",
     "text": [
      "INFO:httpx:HTTP Request: POST https://api.together.xyz/v1/chat/completions \"HTTP/1.1 200 OK\"\n",
      "INFO:root:Registered fetch_stock_data:\n",
      "{'tool_name': 'fetch_stock_data', 'arguments': {'symbol': 'str', 'start_date': 'str', 'end_date': 'str', 'interval': 'str'}, 'return': 'pd.DataFrame', 'docstring': 'Fetch historical stock data from Yahoo Finance.', 'dependencies': ['yfinance', 'pandas'], 'module_path': 'agentools.tools.yfinance_tools'}\n",
      "INFO:root:Registered visualize_stock_data:\n",
      "{'tool_name': 'visualize_stock_data', 'arguments': {'symbol': 'str', 'start_date': 'str', 'end_date': 'str', 'interval': 'str'}, 'return': 'None', 'docstring': 'Visualize stock data with multiple chart types.', 'dependencies': ['yfinance', 'pandas', 'matplotlib', 'plotly'], 'module_path': 'agentools.tools.yfinance_tools'}\n",
      "INFO:root:Registered plot_returns:\n",
      "{'tool_name': 'plot_returns', 'arguments': {'symbol': 'str', 'start_date': 'str', 'end_date': 'str', 'interval': 'str'}, 'return': 'None', 'docstring': 'Visualize cumulative returns of the stock.', 'dependencies': ['yfinance', 'pandas', 'plotly'], 'module_path': 'agentools.tools.yfinance_tools'}\n",
      "INFO:root:Completed registration for module agentools.tools.yfinance_tools\n",
      "INFO:httpx:HTTP Request: POST https://api.together.xyz/v1/chat/completions \"HTTP/1.1 429 Too Many Requests\"\n",
      "INFO:openai._base_client:Retrying request to /chat/completions in 6.000000 seconds\n",
      "INFO:httpx:HTTP Request: POST https://api.together.xyz/v1/chat/completions \"HTTP/1.1 200 OK\"\n",
      "INFO:root:Registered search_api:\n",
      "{'tool_name': 'search_api', 'arguments': {'query': 'Union[str, dict[str, str]]'}, 'return': 'Any', 'docstring': 'Search for an answer from a query string', 'dependencies': ['os', 'dotenv', 'tavily', 'dataclasses', 'typing'], 'module_path': 'websearch_tools'}\n",
      "INFO:root:Completed registration for module agentools.tools.websearch_tools\n",
      "INFO:httpx:HTTP Request: POST https://api.together.xyz/v1/chat/completions \"HTTP/1.1 429 Too Many Requests\"\n",
      "INFO:openai._base_client:Retrying request to /chat/completions in 7.000000 seconds\n",
      "INFO:httpx:HTTP Request: POST https://api.together.xyz/v1/chat/completions \"HTTP/1.1 200 OK\"\n"
     ]
    },
    {
     "data": {
      "text/html": [
       "<div>\n",
       "<style scoped>\n",
       "    .dataframe tbody tr th:only-of-type {\n",
       "        vertical-align: middle;\n",
       "    }\n",
       "\n",
       "    .dataframe tbody tr th {\n",
       "        vertical-align: top;\n",
       "    }\n",
       "\n",
       "    .dataframe thead th {\n",
       "        text-align: right;\n",
       "    }\n",
       "</style>\n",
       "<table border=\"1\" class=\"dataframe\">\n",
       "  <thead>\n",
       "    <tr style=\"text-align: right;\">\n",
       "      <th></th>\n",
       "      <th>Open</th>\n",
       "      <th>High</th>\n",
       "      <th>Low</th>\n",
       "      <th>Close</th>\n",
       "      <th>Volume</th>\n",
       "      <th>Dividends</th>\n",
       "      <th>Stock Splits</th>\n",
       "    </tr>\n",
       "    <tr>\n",
       "      <th>Date</th>\n",
       "      <th></th>\n",
       "      <th></th>\n",
       "      <th></th>\n",
       "      <th></th>\n",
       "      <th></th>\n",
       "      <th></th>\n",
       "      <th></th>\n",
       "    </tr>\n",
       "  </thead>\n",
       "  <tbody>\n",
       "    <tr>\n",
       "      <th>2024-01-02 00:00:00-05:00</th>\n",
       "      <td>250.080002</td>\n",
       "      <td>251.250000</td>\n",
       "      <td>244.410004</td>\n",
       "      <td>248.419998</td>\n",
       "      <td>104654200</td>\n",
       "      <td>0.0</td>\n",
       "      <td>0.0</td>\n",
       "    </tr>\n",
       "    <tr>\n",
       "      <th>2024-01-03 00:00:00-05:00</th>\n",
       "      <td>244.979996</td>\n",
       "      <td>245.679993</td>\n",
       "      <td>236.320007</td>\n",
       "      <td>238.449997</td>\n",
       "      <td>121082600</td>\n",
       "      <td>0.0</td>\n",
       "      <td>0.0</td>\n",
       "    </tr>\n",
       "    <tr>\n",
       "      <th>2024-01-04 00:00:00-05:00</th>\n",
       "      <td>239.250000</td>\n",
       "      <td>242.699997</td>\n",
       "      <td>237.729996</td>\n",
       "      <td>237.929993</td>\n",
       "      <td>102629300</td>\n",
       "      <td>0.0</td>\n",
       "      <td>0.0</td>\n",
       "    </tr>\n",
       "    <tr>\n",
       "      <th>2024-01-05 00:00:00-05:00</th>\n",
       "      <td>236.860001</td>\n",
       "      <td>240.119995</td>\n",
       "      <td>234.899994</td>\n",
       "      <td>237.490005</td>\n",
       "      <td>92379400</td>\n",
       "      <td>0.0</td>\n",
       "      <td>0.0</td>\n",
       "    </tr>\n",
       "    <tr>\n",
       "      <th>2024-01-08 00:00:00-05:00</th>\n",
       "      <td>236.139999</td>\n",
       "      <td>241.250000</td>\n",
       "      <td>235.300003</td>\n",
       "      <td>240.449997</td>\n",
       "      <td>85166600</td>\n",
       "      <td>0.0</td>\n",
       "      <td>0.0</td>\n",
       "    </tr>\n",
       "  </tbody>\n",
       "</table>\n",
       "</div>"
      ],
      "text/plain": [
       "                                 Open        High         Low       Close  \\\n",
       "Date                                                                        \n",
       "2024-01-02 00:00:00-05:00  250.080002  251.250000  244.410004  248.419998   \n",
       "2024-01-03 00:00:00-05:00  244.979996  245.679993  236.320007  238.449997   \n",
       "2024-01-04 00:00:00-05:00  239.250000  242.699997  237.729996  237.929993   \n",
       "2024-01-05 00:00:00-05:00  236.860001  240.119995  234.899994  237.490005   \n",
       "2024-01-08 00:00:00-05:00  236.139999  241.250000  235.300003  240.449997   \n",
       "\n",
       "                              Volume  Dividends  Stock Splits  \n",
       "Date                                                           \n",
       "2024-01-02 00:00:00-05:00  104654200        0.0           0.0  \n",
       "2024-01-03 00:00:00-05:00  121082600        0.0           0.0  \n",
       "2024-01-04 00:00:00-05:00  102629300        0.0           0.0  \n",
       "2024-01-05 00:00:00-05:00   92379400        0.0           0.0  \n",
       "2024-01-08 00:00:00-05:00   85166600        0.0           0.0  "
      ]
     },
     "execution_count": 1,
     "metadata": {},
     "output_type": "execute_result"
    }
   ],
   "source": [
    "import os\n",
    "import sys\n",
    "from langchain_together import ChatTogether \n",
    "sys.path.append(os.path.join(os.getcwd(), \"agentools\"))\n",
    "from agentools.agent.agent import Agent\n",
    "from dotenv import load_dotenv\n",
    "load_dotenv()\n",
    "\n",
    "llm = ChatTogether(\n",
    "    model=\"meta-llama/Llama-3.3-70B-Instruct-Turbo-Free\"\n",
    ")\n",
    "\n",
    "# Step 1: Create Agent with tools\n",
    "agent = Agent(\n",
    "    llm = llm,\n",
    "    tools = ['agentools.tools.yfinance_tools', 'agentools.tools.websearch_tools']\n",
    ")\n",
    "\n",
    "# Step 2: invoke the agent\n",
    "df = agent.invoke(\"What is the price of Tesla stock in 2024?\")\n",
    "df.head()"
   ]
  },
  {
   "cell_type": "code",
   "execution_count": 2,
   "metadata": {},
   "outputs": [
    {
     "name": "stderr",
     "output_type": "stream",
     "text": [
      "INFO:httpx:HTTP Request: POST https://api.together.xyz/v1/chat/completions \"HTTP/1.1 429 Too Many Requests\"\n",
      "INFO:openai._base_client:Retrying request to /chat/completions in 5.000000 seconds\n",
      "INFO:httpx:HTTP Request: POST https://api.together.xyz/v1/chat/completions \"HTTP/1.1 200 OK\"\n"
     ]
    },
    {
     "data": {
      "image/png": "[encoded data removed]",
      "text/plain": [
       "<Figure size 1200x800 with 2 Axes>"
      ]
     },
     "metadata": {},
     "output_type": "display_data"
    },
    {
     "data": {
      "application/vnd.plotly.v1+json": {
       "config": {
        "plotlyServerURL": "https://plot.ly"
       },
       "data": [
        {
         "close": [
          248.4199981689453,
          238.4499969482422,
          237.92999267578125,
          237.49000549316406,
          240.4499969482422,
          234.9600067138672,
          233.94000244140625,
          227.22000122070312,
          218.88999938964844,
          219.91000366210938,
          215.5500030517578,
          211.8800048828125,
          212.19000244140625,
          208.8000030517578,
          209.13999938964844,
          207.8300018310547,
          182.6300048828125,
          183.25,
          190.92999267578125,
          191.58999633789062,
          187.2899932861328,
          188.86000061035156,
          187.91000366210938,
          181.05999755859375,
          185.10000610351562,
          187.5800018310547,
          189.55999755859375,
          193.57000732421875,
          188.1300048828125,
          184.02000427246094,
          188.7100067138672,
          200.4499969482422,
          199.9499969482422,
          193.75999450683594,
          194.77000427246094,
          197.41000366210938,
          191.97000122070312,
          199.39999389648438,
          199.72999572753906,
          202.0399932861328,
          201.8800048828125,
          202.63999938964844,
          188.13999938964844,
          180.74000549316406,
          176.5399932861328,
          178.64999389648438,
          175.33999633789062,
          177.77000427246094,
          177.5399932861328,
          169.47999572753906,
          162.5,
          163.57000732421875,
          173.8000030517578,
          171.32000732421875,
          175.66000366210938,
          172.82000732421875,
          170.8300018310547,
          172.6300048828125,
          177.6699981689453,
          179.8300018310547,
          175.7899932861328,
          175.22000122070312,
          166.6300048828125,
          168.3800048828125,
          171.11000061035156,
          164.89999389648438,
          172.97999572753906,
          176.8800048828125,
          171.75999450683594,
          174.60000610351562,
          171.0500030517578,
          161.47999572753906,
          157.11000061035156,
          155.4499969482422,
          149.92999267578125,
          147.0500030517578,
          142.0500030517578,
          144.67999267578125,
          162.1300048828125,
          170.17999267578125,
          168.2899932861328,
          194.0500030517578,
          183.27999877929688,
          179.99000549316406,
          180.00999450683594,
          181.19000244140625,
          184.75999450683594,
          177.80999755859375,
          174.72000122070312,
          171.97000122070312,
          168.47000122070312,
          171.88999938964844,
          177.5500030517578,
          173.99000549316406,
          174.83999633789062,
          177.4600067138672,
          174.9499969482422,
          186.60000610351562,
          180.11000061035156,
          173.74000549316406,
          179.24000549316406,
          176.75,
          176.19000244140625,
          178.7899932861328,
          178.0800018310547,
          176.2899932861328,
          174.77000427246094,
          175,
          177.94000244140625,
          177.47999572753906,
          173.7899932861328,
          170.66000366210938,
          177.2899932861328,
          182.47000122070312,
          178.00999450683594,
          187.44000244140625,
          184.86000061035156,
          181.57000732421875,
          183.00999450683594,
          182.5800018310547,
          187.35000610351562,
          196.3699951171875,
          197.4199981689453,
          197.8800048828125,
          209.86000061035156,
          231.25999450683594,
          246.38999938964844,
          251.52000427246094,
          252.94000244140625,
          262.3299865722656,
          263.260009765625,
          241.02999877929688,
          248.22999572753906,
          252.63999938964844,
          256.55999755859375,
          248.5,
          249.22999572753906,
          239.1999969482422,
          251.50999450683594,
          246.3800048828125,
          215.99000549316406,
          220.25,
          219.8000030517578,
          232.10000610351562,
          222.6199951171875,
          232.07000732421875,
          216.86000061035156,
          207.6699981689453,
          198.8800048828125,
          200.63999938964844,
          191.75999450683594,
          198.83999633789062,
          200,
          197.49000549316406,
          207.8300018310547,
          201.3800048828125,
          214.13999938964844,
          216.1199951171875,
          222.72000122070312,
          221.10000610351562,
          223.27000427246094,
          210.66000366210938,
          220.32000732421875,
          213.2100067138672,
          209.2100067138672,
          205.75,
          206.27999877929688,
          214.11000061035156,
          210.60000610351562,
          219.41000366210938,
          230.1699981689453,
          210.72999572753906,
          216.27000427246094,
          226.1699981689453,
          228.1300048828125,
          229.80999755859375,
          230.2899932861328,
          226.77999877929688,
          227.8699951171875,
          227.1999969482422,
          243.9199981689453,
          238.25,
          250,
          254.27000427246094,
          257.0199890136719,
          254.22000122070312,
          260.4599914550781,
          261.6300048828125,
          258.0199890136719,
          249.02000427246094,
          240.66000366210938,
          250.0800018310547,
          240.8300018310547,
          244.5,
          241.0500030517578,
          238.77000427246094,
          217.8000030517578,
          219.16000366210938,
          219.57000732421875,
          221.3300018310547,
          220.88999938964844,
          220.6999969482422,
          218.85000610351562,
          217.97000122070312,
          213.64999389648438,
          260.4800109863281,
          269.19000244140625,
          262.510009765625,
          259.5199890136719,
          257.54998779296875,
          249.85000610351562,
          248.97999572753906,
          242.83999633789062,
          251.44000244140625,
          288.5299987792969,
          296.9100036621094,
          321.2200012207031,
          350,
          328.489990234375,
          330.239990234375,
          311.17999267578125,
          320.7200012207031,
          338.739990234375,
          346,
          342.0299987792969,
          339.6400146484375,
          352.55999755859375,
          338.5899963378906,
          338.2300109863281,
          332.8900146484375,
          345.1600036621094,
          357.0899963378906,
          351.4200134277344,
          357.92999267578125,
          369.489990234375,
          389.2200012207031,
          389.7900085449219,
          400.989990234375,
          424.7699890136719,
          418.1000061035156,
          436.2300109863281,
          463.0199890136719,
          479.8599853515625,
          440.1300048828125,
          436.1700134277344,
          421.05999755859375,
          430.6000061035156,
          462.2799987792969,
          454.1300048828125,
          431.6600036621094,
          417.4100036621094
         ],
         "high": [
          251.25,
          245.67999267578125,
          242.6999969482422,
          240.1199951171875,
          241.25,
          238.9600067138672,
          235.5,
          230.92999267578125,
          225.33999633789062,
          223.49000549316406,
          215.6699981689453,
          217.4499969482422,
          213.19000244140625,
          217.8000030517578,
          215.64999389648438,
          212.72999572753906,
          193,
          186.77999877929688,
          191.47999572753906,
          196.36000061035156,
          193.97000122070312,
          189.8800048828125,
          188.69000244140625,
          184.67999267578125,
          186.49000549316406,
          189.7899932861328,
          191.6199951171875,
          194.1199951171875,
          194.72999572753906,
          187.25999450683594,
          188.88999938964844,
          200.8800048828125,
          203.1699981689453,
          198.60000610351562,
          199.44000244140625,
          198.32000732421875,
          197.57000732421875,
          201.77999877929688,
          205.60000610351562,
          205.3000030517578,
          205.27999877929688,
          204.52000427246094,
          199.75,
          184.58999633789062,
          181.5800018310547,
          180.0399932861328,
          182.72999572753906,
          182.8699951171875,
          179.42999267578125,
          176.0500030517578,
          171.1699981689453,
          165.17999267578125,
          174.72000122070312,
          172.82000732421875,
          176.25,
          178.17999267578125,
          171.1999969482422,
          175.24000549316406,
          184.25,
          181.91000366210938,
          179.57000732421875,
          176.75,
          167.69000244140625,
          168.82000732421875,
          177.19000244140625,
          170.86000061035156,
          174.5,
          179.22000122070312,
          174.92999267578125,
          175.8800048828125,
          173.80999755859375,
          170.69000244140625,
          158.19000244140625,
          158.3300018310547,
          152.1999969482422,
          150.94000244140625,
          144.44000244140625,
          147.25999450683594,
          167.97000122070312,
          170.8800048828125,
          172.1199951171875,
          198.8699951171875,
          190.9499969482422,
          185.86000061035156,
          184.60000610351562,
          184.77999877929688,
          187.55999755859375,
          183.25999450683594,
          176.05999755859375,
          175.6199951171875,
          173.05999755859375,
          175.39999389648438,
          179.49000549316406,
          180,
          175.7899932861328,
          179.6300048828125,
          177.75,
          186.8800048828125,
          183.8000030517578,
          181.89999389648438,
          180.0800018310547,
          178.25,
          178.14999389648438,
          182.6699981689453,
          180.32000732421875,
          182.63999938964844,
          177.75999450683594,
          176.14999389648438,
          179.72999572753906,
          179.35000610351562,
          178.57000732421875,
          174.75,
          180.5500030517578,
          191.0800018310547,
          186,
          188.80999755859375,
          187.1999969482422,
          185.2100067138672,
          183.9499969482422,
          188.8000030517578,
          187.97000122070312,
          197.75999450683594,
          198.72000122070312,
          203.1999969482422,
          213.22999572753906,
          231.3000030517578,
          248.35000610351562,
          252.3699951171875,
          259.44000244140625,
          265.6099853515625,
          267.5899963378906,
          271,
          251.83999633789062,
          265.6000061035156,
          258.6199951171875,
          258.4700012207031,
          257.1400146484375,
          249.44000244140625,
          253.2100067138672,
          255.75999450683594,
          225.99000549316406,
          226,
          222.27999877929688,
          234.27000427246094,
          232.41000366210938,
          234.67999267578125,
          231.8699951171875,
          216.1300048828125,
          203.8800048828125,
          202.89999389648438,
          203.49000549316406,
          200.6999969482422,
          200.8800048828125,
          199.25999450683594,
          208.49000549316406,
          208.44000244140625,
          215.8800048828125,
          219.8000030517578,
          222.97999572753906,
          228.22000122070312,
          224.66000366210938,
          224.8000030517578,
          221.47999572753906,
          219.08999633789062,
          215.66000366210938,
          211.83999633789062,
          214.88999938964844,
          214.57000732421875,
          219.89999389648438,
          222.22000122070312,
          235,
          233.60000610351562,
          219.8699951171875,
          226.39999389648438,
          228.47000122070312,
          231.4499969482422,
          232.6699981689453,
          229.9600067138672,
          234.57000732421875,
          235.67999267578125,
          244.24000549316406,
          243.99000549316406,
          250,
          257.19000244140625,
          257.04998779296875,
          261.75,
          260.70001220703125,
          264.8599853515625,
          263.9800109863281,
          251.16000366210938,
          249.7899932861328,
          250.9600067138672,
          249.8300018310547,
          246.2100067138672,
          247.42999267578125,
          242.7899932861328,
          223.33999633789062,
          221.91000366210938,
          224.25999450683594,
          222.82000732421875,
          222.0800018310547,
          222.27999877929688,
          220.47999572753906,
          218.22000122070312,
          218.72000122070312,
          262.1199951171875,
          269.489990234375,
          273.5400085449219,
          264.9800109863281,
          263.3500061035156,
          259.75,
          254,
          248.89999389648438,
          255.27999877929688,
          289.5899963378906,
          299.75,
          328.7099914550781,
          358.6400146484375,
          345.8399963378906,
          344.6000061035156,
          329.9800109863281,
          324.67999267578125,
          348.54998779296875,
          347.3800048828125,
          346.6000061035156,
          347.989990234375,
          361.5299987792969,
          361.92999267578125,
          346.9599914550781,
          342.54998779296875,
          345.45001220703125,
          360,
          355.69000244140625,
          358.1000061035156,
          375.42999267578125,
          389.489990234375,
          404.79998779296875,
          409.7300109863281,
          424.8800048828125,
          429.29998779296875,
          436.29998779296875,
          463.19000244140625,
          483.989990234375,
          488.5400085449219,
          456.3599853515625,
          447.0799865722656,
          434.510009765625,
          462.7799987792969,
          465.3299865722656,
          450,
          427
         ],
         "low": [
          244.41000366210938,
          236.32000732421875,
          237.72999572753906,
          234.89999389648438,
          235.3000030517578,
          232.0399932861328,
          231.2899932861328,
          225.3699951171875,
          217.14999389648438,
          212.17999267578125,
          212.00999450683594,
          208.74000549316406,
          207.55999755859375,
          206.27000427246094,
          207.75,
          206.77000427246094,
          180.05999755859375,
          182.10000610351562,
          183.6699981689453,
          190.61000061035156,
          185.85000610351562,
          184.27999877929688,
          182,
          175.00999450683594,
          177.11000061035156,
          182.67999267578125,
          185.5800018310547,
          189.47999572753906,
          187.27999877929688,
          182.11000061035156,
          183.35000610351562,
          188.86000061035156,
          197.39999389648438,
          189.1300048828125,
          191.9499969482422,
          191.36000061035156,
          191.5,
          192,
          198.25999450683594,
          198.44000244140625,
          198.4499969482422,
          198.5,
          186.72000122070312,
          177.57000732421875,
          173.6999969482422,
          173.6999969482422,
          174.6999969482422,
          174.8000030517578,
          172.41000366210938,
          169.14999389648438,
          160.50999450683594,
          160.75999450683594,
          165.89999389648438,
          167.4199981689453,
          170.82000732421875,
          171.8000030517578,
          166.3000030517578,
          168.72999572753906,
          177.3800048828125,
          176,
          175.3000030517578,
          170.2100067138672,
          163.42999267578125,
          163.27999877929688,
          168.00999450683594,
          160.50999450683594,
          167.7899932861328,
          171.9199981689453,
          170.00999450683594,
          168.50999450683594,
          170.36000061035156,
          161.3800048828125,
          153.75,
          153.77999877929688,
          148.6999969482422,
          146.22000122070312,
          138.8000030517578,
          141.11000061035156,
          157.50999450683594,
          158.36000061035156,
          166.3699951171875,
          184.5399932861328,
          182.83999633789062,
          179.00999450683594,
          176.02000427246094,
          178.4199981689453,
          182.1999969482422,
          177.39999389648438,
          170.14999389648438,
          171.3699951171875,
          167.75,
          169,
          174.07000732421875,
          173.11000061035156,
          171.42999267578125,
          172.75,
          173.52000427246094,
          174.7100067138672,
          178.1199951171875,
          173.25999450683594,
          173.72999572753906,
          173.16000366210938,
          173.92999267578125,
          175.3800048828125,
          173.82000732421875,
          174.49000549316406,
          174,
          172.1300048828125,
          172.72999572753906,
          175.5800018310547,
          173.1699981689453,
          167.41000366210938,
          169.8000030517578,
          181.22999572753906,
          176.9199981689453,
          177,
          182.3699951171875,
          179.66000366210938,
          180.69000244140625,
          182.5500030517578,
          182.00999450683594,
          186.36000061035156,
          194.0500030517578,
          195.25999450683594,
          200.85000610351562,
          218.05999755859375,
          234.25,
          242.4600067138672,
          244.57000732421875,
          250.3000030517578,
          257.8599853515625,
          239.64999389648438,
          233.08999633789062,
          251.72999572753906,
          245.8000030517578,
          246.17999267578125,
          247.1999969482422,
          236.8300018310547,
          243.75,
          245.6300048828125,
          214.7100067138672,
          216.22999572753906,
          215.3300018310547,
          224.6999969482422,
          220,
          226.7899932861328,
          214.3300018310547,
          205.77999877929688,
          182,
          192.6699981689453,
          191.47999572753906,
          192.0399932861328,
          195.11000061035156,
          194.6699981689453,
          197.05999755859375,
          198.75,
          204.82000732421875,
          210.8000030517578,
          214.08999633789062,
          219.55999755859375,
          218.86000061035156,
          210.32000732421875,
          214.2100067138672,
          211.00999450683594,
          206.94000244140625,
          202.58999633789062,
          205.97000122070312,
          207.02999877929688,
          209.63999938964844,
          210.57000732421875,
          222.25,
          210.50999450683594,
          213.6699981689453,
          218.63999938964844,
          216.8000030517578,
          223.8300018310547,
          226.32000732421875,
          223.52999877929688,
          226.5500030517578,
          226.8800048828125,
          232.1300048828125,
          235.9199981689453,
          241.9199981689453,
          249.0500030517578,
          252.27999877929688,
          251.52999877929688,
          254.1199951171875,
          255.77000427246094,
          248.52999877929688,
          241.5,
          237.80999755859375,
          244.5800018310547,
          240.6999969482422,
          240.55999755859375,
          239.50999450683594,
          232.33999633789062,
          214.3800048828125,
          213.74000549316406,
          217.1199951171875,
          218.92999267578125,
          217.89999389648438,
          219.22999572753906,
          215.72999572753906,
          215.25999450683594,
          212.11000061035156,
          242.64999389648438,
          255.32000732421875,
          262.239990234375,
          255.50999450683594,
          255.82000732421875,
          249.25,
          246.6300048828125,
          238.8800048828125,
          246.2100067138672,
          275.6199951171875,
          285.5199890136719,
          297.6600036621094,
          336,
          323.30999755859375,
          322.5,
          310.3699951171875,
          309.2200012207031,
          330.010009765625,
          332.75,
          334.29998779296875,
          335.2799987792969,
          337.70001220703125,
          338.20001220703125,
          335.6600036621094,
          326.5899963378906,
          334.6499938964844,
          351.1499938964844,
          348.20001220703125,
          348.6000061035156,
          359.5,
          370.79998779296875,
          378.010009765625,
          390.8500061035156,
          402.3800048828125,
          415,
          415.7099914550781,
          436.1499938964844,
          457.510009765625,
          427.010009765625,
          420.0199890136719,
          417.6400146484375,
          415.4100036621094,
          435.1400146484375,
          451.0199890136719,
          426.5,
          415.75
         ],
         "name": "OHLC",
         "open": [
          250.0800018310547,
          244.97999572753906,
          239.25,
          236.86000061035156,
          236.13999938964844,
          238.11000061035156,
          235.10000610351562,
          230.57000732421875,
          220.0800018310547,
          215.10000610351562,
          214.86000061035156,
          216.8800048828125,
          209.99000549316406,
          212.25999450683594,
          211.3000030517578,
          211.8800048828125,
          189.6999969482422,
          185.5,
          185.6300048828125,
          195.3300018310547,
          187,
          188.5,
          185.0399932861328,
          184.25999450683594,
          177.2100067138672,
          188.17999267578125,
          189,
          190.17999267578125,
          192.11000061035156,
          183.99000549316406,
          185.3000030517578,
          189.16000366210938,
          202.05999755859375,
          196.1300048828125,
          193.36000061035156,
          194,
          195.30999755859375,
          192.2899932861328,
          204.0399932861328,
          200.4199981689453,
          204.17999267578125,
          200.52000427246094,
          198.72999572753906,
          183.0500030517578,
          179.99000549316406,
          174.35000610351562,
          181.5,
          175.4499969482422,
          177.77000427246094,
          173.0500030517578,
          167.77000427246094,
          163.16000366210938,
          170.02000427246094,
          172.36000061035156,
          173,
          176.38999938964844,
          166.69000244140625,
          168.75999450683594,
          178.5800018310547,
          181.41000366210938,
          177.4499969482422,
          176.1699981689453,
          164.75,
          164.02000427246094,
          170.07000732421875,
          169.0800018310547,
          169.33999633789062,
          172.91000366210938,
          173.0399932861328,
          172.5500030517578,
          172.33999633789062,
          170.24000549316406,
          156.74000549316406,
          157.63999938964844,
          151.25,
          148.97000122070312,
          140.55999755859375,
          143.3300018310547,
          162.83999633789062,
          158.9600067138672,
          168.85000610351562,
          188.4199981689453,
          186.97999572753906,
          182,
          182.86000061035156,
          182.10000610351562,
          183.8000030517578,
          182.39999389648438,
          171.58999633789062,
          175.00999450683594,
          173.0500030517578,
          170,
          174.5,
          179.89999389648438,
          174.10000610351562,
          173.5500030517578,
          177.55999755859375,
          175.50999450683594,
          182.85000610351562,
          181.8000030517578,
          174.83999633789062,
          176.39999389648438,
          174.19000244140625,
          178.5800018310547,
          178.5,
          178.1300048828125,
          174.77999877929688,
          175.35000610351562,
          174.60000610351562,
          176.1300048828125,
          176.05999755859375,
          173.9199981689453,
          171.1199951171875,
          188.38999938964844,
          185.8000030517578,
          177.9199981689453,
          186.55999755859375,
          184.67999267578125,
          182.3000030517578,
          184.97000122070312,
          184.39999389648438,
          186.5399932861328,
          195.1699981689453,
          199.5500030517578,
          201.02000427246094,
          218.88999938964844,
          234.55999755859375,
          249.80999755859375,
          247.7100067138672,
          251,
          262.79998779296875,
          263.29998779296875,
          235.8000030517578,
          255.97000122070312,
          255.30999755859375,
          252.72999572753906,
          251.08999633789062,
          247.7899932861328,
          244.2100067138672,
          253.60000610351562,
          225.4199981689453,
          216.8000030517578,
          221.19000244140625,
          224.89999389648438,
          232.25,
          227.89999389648438,
          227.69000244140625,
          214.8800048828125,
          185.22000122070312,
          200.75,
          200.77000427246094,
          195.6999969482422,
          197.0500030517578,
          199.02000427246094,
          198.47000122070312,
          207.38999938964844,
          205.02000427246094,
          211.14999389648438,
          217.07000732421875,
          224.8800048828125,
          222.6699981689453,
          223.82000732421875,
          214.4600067138672,
          218.75,
          213.25,
          209.72000122070312,
          209.8000030517578,
          208.6300048828125,
          215.25999450683594,
          210.58999633789062,
          223.49000549316406,
          232.60000610351562,
          216.1999969482422,
          220.07000732421875,
          224.5500030517578,
          224.66000366210938,
          228,
          229.3000030517578,
          229.4499969482422,
          230.08999633789062,
          234,
          241.52000427246094,
          242.61000061035156,
          254.0800018310547,
          252.5399932861328,
          260.6000061035156,
          257.3800048828125,
          259.0400085449219,
          262.6700134277344,
          247.5500030517578,
          244.47999572753906,
          246.69000244140625,
          249,
          243.55999755859375,
          243.82000732421875,
          241.80999755859375,
          220.1300048828125,
          220.1300048828125,
          220.00999450683594,
          221.39999389648438,
          221.58999633789062,
          220.7100067138672,
          218.89999389648438,
          217.30999755859375,
          217.1300048828125,
          244.67999267578125,
          256.010009765625,
          270,
          264.510009765625,
          258.0400085449219,
          257.989990234375,
          252.0399932861328,
          244.55999755859375,
          247.33999633789062,
          284.6700134277344,
          288.8900146484375,
          299.1400146484375,
          346.29998779296875,
          342.739990234375,
          335.8500061035156,
          327.69000244140625,
          310.57000732421875,
          340.7300109863281,
          335.760009765625,
          345,
          343.80999755859375,
          341.0899963378906,
          360.1400146484375,
          341,
          341.79998779296875,
          336.0799865722656,
          352.3800048828125,
          351.79998779296875,
          353,
          359.8699951171875,
          377.4200134277344,
          397.6099853515625,
          392.67999267578125,
          409.70001220703125,
          424.8399963378906,
          420,
          441.0899963378906,
          475.8999938964844,
          466.5,
          451.8800048828125,
          425.510009765625,
          431,
          435.8999938964844,
          465.1600036621094,
          449.5199890136719,
          419.3999938964844
         ],
         "type": "candlestick",
         "x": [
          "2024-01-02T00:00:00-05:00",
          "2024-01-03T00:00:00-05:00",
          "2024-01-04T00:00:00-05:00",
          "2024-01-05T00:00:00-05:00",
          "2024-01-08T00:00:00-05:00",
          "2024-01-09T00:00:00-05:00",
          "2024-01-10T00:00:00-05:00",
          "2024-01-11T00:00:00-05:00",
          "2024-01-12T00:00:00-05:00",
          "2024-01-16T00:00:00-05:00",
          "2024-01-17T00:00:00-05:00",
          "2024-01-18T00:00:00-05:00",
          "2024-01-19T00:00:00-05:00",
          "2024-01-22T00:00:00-05:00",
          "2024-01-23T00:00:00-05:00",
          "2024-01-24T00:00:00-05:00",
          "2024-01-25T00:00:00-05:00",
          "2024-01-26T00:00:00-05:00",
          "2024-01-29T00:00:00-05:00",
          "2024-01-30T00:00:00-05:00",
          "2024-01-31T00:00:00-05:00",
          "2024-02-01T00:00:00-05:00",
          "2024-02-02T00:00:00-05:00",
          "2024-02-05T00:00:00-05:00",
          "2024-02-06T00:00:00-05:00",
          "2024-02-07T00:00:00-05:00",
          "2024-02-08T00:00:00-05:00",
          "2024-02-09T00:00:00-05:00",
          "2024-02-12T00:00:00-05:00",
          "2024-02-13T00:00:00-05:00",
          "2024-02-14T00:00:00-05:00",
          "2024-02-15T00:00:00-05:00",
          "2024-02-16T00:00:00-05:00",
          "2024-02-20T00:00:00-05:00",
          "2024-02-21T00:00:00-05:00",
          "2024-02-22T00:00:00-05:00",
          "2024-02-23T00:00:00-05:00",
          "2024-02-26T00:00:00-05:00",
          "2024-02-27T00:00:00-05:00",
          "2024-02-28T00:00:00-05:00",
          "2024-02-29T00:00:00-05:00",
          "2024-03-01T00:00:00-05:00",
          "2024-03-04T00:00:00-05:00",
          "2024-03-05T00:00:00-05:00",
          "2024-03-06T00:00:00-05:00",
          "2024-03-07T00:00:00-05:00",
          "2024-03-08T00:00:00-05:00",
          "2024-03-11T00:00:00-04:00",
          "2024-03-12T00:00:00-04:00",
          "2024-03-13T00:00:00-04:00",
          "2024-03-14T00:00:00-04:00",
          "2024-03-15T00:00:00-04:00",
          "2024-03-18T00:00:00-04:00",
          "2024-03-19T00:00:00-04:00",
          "2024-03-20T00:00:00-04:00",
          "2024-03-21T00:00:00-04:00",
          "2024-03-22T00:00:00-04:00",
          "2024-03-25T00:00:00-04:00",
          "2024-03-26T00:00:00-04:00",
          "2024-03-27T00:00:00-04:00",
          "2024-03-28T00:00:00-04:00",
          "2024-04-01T00:00:00-04:00",
          "2024-04-02T00:00:00-04:00",
          "2024-04-03T00:00:00-04:00",
          "2024-04-04T00:00:00-04:00",
          "2024-04-05T00:00:00-04:00",
          "2024-04-08T00:00:00-04:00",
          "2024-04-09T00:00:00-04:00",
          "2024-04-10T00:00:00-04:00",
          "2024-04-11T00:00:00-04:00",
          "2024-04-12T00:00:00-04:00",
          "2024-04-15T00:00:00-04:00",
          "2024-04-16T00:00:00-04:00",
          "2024-04-17T00:00:00-04:00",
          "2024-04-18T00:00:00-04:00",
          "2024-04-19T00:00:00-04:00",
          "2024-04-22T00:00:00-04:00",
          "2024-04-23T00:00:00-04:00",
          "2024-04-24T00:00:00-04:00",
          "2024-04-25T00:00:00-04:00",
          "2024-04-26T00:00:00-04:00",
          "2024-04-29T00:00:00-04:00",
          "2024-04-30T00:00:00-04:00",
          "2024-05-01T00:00:00-04:00",
          "2024-05-02T00:00:00-04:00",
          "2024-05-03T00:00:00-04:00",
          "2024-05-06T00:00:00-04:00",
          "2024-05-07T00:00:00-04:00",
          "2024-05-08T00:00:00-04:00",
          "2024-05-09T00:00:00-04:00",
          "2024-05-10T00:00:00-04:00",
          "2024-05-13T00:00:00-04:00",
          "2024-05-14T00:00:00-04:00",
          "2024-05-15T00:00:00-04:00",
          "2024-05-16T00:00:00-04:00",
          "2024-05-17T00:00:00-04:00",
          "2024-05-20T00:00:00-04:00",
          "2024-05-21T00:00:00-04:00",
          "2024-05-22T00:00:00-04:00",
          "2024-05-23T00:00:00-04:00",
          "2024-05-24T00:00:00-04:00",
          "2024-05-28T00:00:00-04:00",
          "2024-05-29T00:00:00-04:00",
          "2024-05-30T00:00:00-04:00",
          "2024-05-31T00:00:00-04:00",
          "2024-06-03T00:00:00-04:00",
          "2024-06-04T00:00:00-04:00",
          "2024-06-05T00:00:00-04:00",
          "2024-06-06T00:00:00-04:00",
          "2024-06-07T00:00:00-04:00",
          "2024-06-10T00:00:00-04:00",
          "2024-06-11T00:00:00-04:00",
          "2024-06-12T00:00:00-04:00",
          "2024-06-13T00:00:00-04:00",
          "2024-06-14T00:00:00-04:00",
          "2024-06-17T00:00:00-04:00",
          "2024-06-18T00:00:00-04:00",
          "2024-06-20T00:00:00-04:00",
          "2024-06-21T00:00:00-04:00",
          "2024-06-24T00:00:00-04:00",
          "2024-06-25T00:00:00-04:00",
          "2024-06-26T00:00:00-04:00",
          "2024-06-27T00:00:00-04:00",
          "2024-06-28T00:00:00-04:00",
          "2024-07-01T00:00:00-04:00",
          "2024-07-02T00:00:00-04:00",
          "2024-07-03T00:00:00-04:00",
          "2024-07-05T00:00:00-04:00",
          "2024-07-08T00:00:00-04:00",
          "2024-07-09T00:00:00-04:00",
          "2024-07-10T00:00:00-04:00",
          "2024-07-11T00:00:00-04:00",
          "2024-07-12T00:00:00-04:00",
          "2024-07-15T00:00:00-04:00",
          "2024-07-16T00:00:00-04:00",
          "2024-07-17T00:00:00-04:00",
          "2024-07-18T00:00:00-04:00",
          "2024-07-19T00:00:00-04:00",
          "2024-07-22T00:00:00-04:00",
          "2024-07-23T00:00:00-04:00",
          "2024-07-24T00:00:00-04:00",
          "2024-07-25T00:00:00-04:00",
          "2024-07-26T00:00:00-04:00",
          "2024-07-29T00:00:00-04:00",
          "2024-07-30T00:00:00-04:00",
          "2024-07-31T00:00:00-04:00",
          "2024-08-01T00:00:00-04:00",
          "2024-08-02T00:00:00-04:00",
          "2024-08-05T00:00:00-04:00",
          "2024-08-06T00:00:00-04:00",
          "2024-08-07T00:00:00-04:00",
          "2024-08-08T00:00:00-04:00",
          "2024-08-09T00:00:00-04:00",
          "2024-08-12T00:00:00-04:00",
          "2024-08-13T00:00:00-04:00",
          "2024-08-14T00:00:00-04:00",
          "2024-08-15T00:00:00-04:00",
          "2024-08-16T00:00:00-04:00",
          "2024-08-19T00:00:00-04:00",
          "2024-08-20T00:00:00-04:00",
          "2024-08-21T00:00:00-04:00",
          "2024-08-22T00:00:00-04:00",
          "2024-08-23T00:00:00-04:00",
          "2024-08-26T00:00:00-04:00",
          "2024-08-27T00:00:00-04:00",
          "2024-08-28T00:00:00-04:00",
          "2024-08-29T00:00:00-04:00",
          "2024-08-30T00:00:00-04:00",
          "2024-09-03T00:00:00-04:00",
          "2024-09-04T00:00:00-04:00",
          "2024-09-05T00:00:00-04:00",
          "2024-09-06T00:00:00-04:00",
          "2024-09-09T00:00:00-04:00",
          "2024-09-10T00:00:00-04:00",
          "2024-09-11T00:00:00-04:00",
          "2024-09-12T00:00:00-04:00",
          "2024-09-13T00:00:00-04:00",
          "2024-09-16T00:00:00-04:00",
          "2024-09-17T00:00:00-04:00",
          "2024-09-18T00:00:00-04:00",
          "2024-09-19T00:00:00-04:00",
          "2024-09-20T00:00:00-04:00",
          "2024-09-23T00:00:00-04:00",
          "2024-09-24T00:00:00-04:00",
          "2024-09-25T00:00:00-04:00",
          "2024-09-26T00:00:00-04:00",
          "2024-09-27T00:00:00-04:00",
          "2024-09-30T00:00:00-04:00",
          "2024-10-01T00:00:00-04:00",
          "2024-10-02T00:00:00-04:00",
          "2024-10-03T00:00:00-04:00",
          "2024-10-04T00:00:00-04:00",
          "2024-10-07T00:00:00-04:00",
          "2024-10-08T00:00:00-04:00",
          "2024-10-09T00:00:00-04:00",
          "2024-10-10T00:00:00-04:00",
          "2024-10-11T00:00:00-04:00",
          "2024-10-14T00:00:00-04:00",
          "2024-10-15T00:00:00-04:00",
          "2024-10-16T00:00:00-04:00",
          "2024-10-17T00:00:00-04:00",
          "2024-10-18T00:00:00-04:00",
          "2024-10-21T00:00:00-04:00",
          "2024-10-22T00:00:00-04:00",
          "2024-10-23T00:00:00-04:00",
          "2024-10-24T00:00:00-04:00",
          "2024-10-25T00:00:00-04:00",
          "2024-10-28T00:00:00-04:00",
          "2024-10-29T00:00:00-04:00",
          "2024-10-30T00:00:00-04:00",
          "2024-10-31T00:00:00-04:00",
          "2024-11-01T00:00:00-04:00",
          "2024-11-04T00:00:00-05:00",
          "2024-11-05T00:00:00-05:00",
          "2024-11-06T00:00:00-05:00",
          "2024-11-07T00:00:00-05:00",
          "2024-11-08T00:00:00-05:00",
          "2024-11-11T00:00:00-05:00",
          "2024-11-12T00:00:00-05:00",
          "2024-11-13T00:00:00-05:00",
          "2024-11-14T00:00:00-05:00",
          "2024-11-15T00:00:00-05:00",
          "2024-11-18T00:00:00-05:00",
          "2024-11-19T00:00:00-05:00",
          "2024-11-20T00:00:00-05:00",
          "2024-11-21T00:00:00-05:00",
          "2024-11-22T00:00:00-05:00",
          "2024-11-25T00:00:00-05:00",
          "2024-11-26T00:00:00-05:00",
          "2024-11-27T00:00:00-05:00",
          "2024-11-29T00:00:00-05:00",
          "2024-12-02T00:00:00-05:00",
          "2024-12-03T00:00:00-05:00",
          "2024-12-04T00:00:00-05:00",
          "2024-12-05T00:00:00-05:00",
          "2024-12-06T00:00:00-05:00",
          "2024-12-09T00:00:00-05:00",
          "2024-12-10T00:00:00-05:00",
          "2024-12-11T00:00:00-05:00",
          "2024-12-12T00:00:00-05:00",
          "2024-12-13T00:00:00-05:00",
          "2024-12-16T00:00:00-05:00",
          "2024-12-17T00:00:00-05:00",
          "2024-12-18T00:00:00-05:00",
          "2024-12-19T00:00:00-05:00",
          "2024-12-20T00:00:00-05:00",
          "2024-12-23T00:00:00-05:00",
          "2024-12-24T00:00:00-05:00",
          "2024-12-26T00:00:00-05:00",
          "2024-12-27T00:00:00-05:00",
          "2024-12-30T00:00:00-05:00"
         ],
         "xaxis": "x",
         "yaxis": "y"
        },
        {
         "line": {
          "color": "purple",
          "width": 1
         },
         "name": "20-day MA",
         "type": "scatter",
         "x": [
          "2024-01-02T00:00:00-05:00",
          "2024-01-03T00:00:00-05:00",
          "2024-01-04T00:00:00-05:00",
          "2024-01-05T00:00:00-05:00",
          "2024-01-08T00:00:00-05:00",
          "2024-01-09T00:00:00-05:00",
          "2024-01-10T00:00:00-05:00",
          "2024-01-11T00:00:00-05:00",
          "2024-01-12T00:00:00-05:00",
          "2024-01-16T00:00:00-05:00",
          "2024-01-17T00:00:00-05:00",
          "2024-01-18T00:00:00-05:00",
          "2024-01-19T00:00:00-05:00",
          "2024-01-22T00:00:00-05:00",
          "2024-01-23T00:00:00-05:00",
          "2024-01-24T00:00:00-05:00",
          "2024-01-25T00:00:00-05:00",
          "2024-01-26T00:00:00-05:00",
          "2024-01-29T00:00:00-05:00",
          "2024-01-30T00:00:00-05:00",
          "2024-01-31T00:00:00-05:00",
          "2024-02-01T00:00:00-05:00",
          "2024-02-02T00:00:00-05:00",
          "2024-02-05T00:00:00-05:00",
          "2024-02-06T00:00:00-05:00",
          "2024-02-07T00:00:00-05:00",
          "2024-02-08T00:00:00-05:00",
          "2024-02-09T00:00:00-05:00",
          "2024-02-12T00:00:00-05:00",
          "2024-02-13T00:00:00-05:00",
          "2024-02-14T00:00:00-05:00",
          "2024-02-15T00:00:00-05:00",
          "2024-02-16T00:00:00-05:00",
          "2024-02-20T00:00:00-05:00",
          "2024-02-21T00:00:00-05:00",
          "2024-02-22T00:00:00-05:00",
          "2024-02-23T00:00:00-05:00",
          "2024-02-26T00:00:00-05:00",
          "2024-02-27T00:00:00-05:00",
          "2024-02-28T00:00:00-05:00",
          "2024-02-29T00:00:00-05:00",
          "2024-03-01T00:00:00-05:00",
          "2024-03-04T00:00:00-05:00",
          "2024-03-05T00:00:00-05:00",
          "2024-03-06T00:00:00-05:00",
          "2024-03-07T00:00:00-05:00",
          "2024-03-08T00:00:00-05:00",
          "2024-03-11T00:00:00-04:00",
          "2024-03-12T00:00:00-04:00",
          "2024-03-13T00:00:00-04:00",
          "2024-03-14T00:00:00-04:00",
          "2024-03-15T00:00:00-04:00",
          "2024-03-18T00:00:00-04:00",
          "2024-03-19T00:00:00-04:00",
          "2024-03-20T00:00:00-04:00",
          "2024-03-21T00:00:00-04:00",
          "2024-03-22T00:00:00-04:00",
          "2024-03-25T00:00:00-04:00",
          "2024-03-26T00:00:00-04:00",
          "2024-03-27T00:00:00-04:00",
          "2024-03-28T00:00:00-04:00",
          "2024-04-01T00:00:00-04:00",
          "2024-04-02T00:00:00-04:00",
          "2024-04-03T00:00:00-04:00",
          "2024-04-04T00:00:00-04:00",
          "2024-04-05T00:00:00-04:00",
          "2024-04-08T00:00:00-04:00",
          "2024-04-09T00:00:00-04:00",
          "2024-04-10T00:00:00-04:00",
          "2024-04-11T00:00:00-04:00",
          "2024-04-12T00:00:00-04:00",
          "2024-04-15T00:00:00-04:00",
          "2024-04-16T00:00:00-04:00",
          "2024-04-17T00:00:00-04:00",
          "2024-04-18T00:00:00-04:00",
          "2024-04-19T00:00:00-04:00",
          "2024-04-22T00:00:00-04:00",
          "2024-04-23T00:00:00-04:00",
          "2024-04-24T00:00:00-04:00",
          "2024-04-25T00:00:00-04:00",
          "2024-04-26T00:00:00-04:00",
          "2024-04-29T00:00:00-04:00",
          "2024-04-30T00:00:00-04:00",
          "2024-05-01T00:00:00-04:00",
          "2024-05-02T00:00:00-04:00",
          "2024-05-03T00:00:00-04:00",
          "2024-05-06T00:00:00-04:00",
          "2024-05-07T00:00:00-04:00",
          "2024-05-08T00:00:00-04:00",
          "2024-05-09T00:00:00-04:00",
          "2024-05-10T00:00:00-04:00",
          "2024-05-13T00:00:00-04:00",
          "2024-05-14T00:00:00-04:00",
          "2024-05-15T00:00:00-04:00",
          "2024-05-16T00:00:00-04:00",
          "2024-05-17T00:00:00-04:00",
          "2024-05-20T00:00:00-04:00",
          "2024-05-21T00:00:00-04:00",
          "2024-05-22T00:00:00-04:00",
          "2024-05-23T00:00:00-04:00",
          "2024-05-24T00:00:00-04:00",
          "2024-05-28T00:00:00-04:00",
          "2024-05-29T00:00:00-04:00",
          "2024-05-30T00:00:00-04:00",
          "2024-05-31T00:00:00-04:00",
          "2024-06-03T00:00:00-04:00",
          "2024-06-04T00:00:00-04:00",
          "2024-06-05T00:00:00-04:00",
          "2024-06-06T00:00:00-04:00",
          "2024-06-07T00:00:00-04:00",
          "2024-06-10T00:00:00-04:00",
          "2024-06-11T00:00:00-04:00",
          "2024-06-12T00:00:00-04:00",
          "2024-06-13T00:00:00-04:00",
          "2024-06-14T00:00:00-04:00",
          "2024-06-17T00:00:00-04:00",
          "2024-06-18T00:00:00-04:00",
          "2024-06-20T00:00:00-04:00",
          "2024-06-21T00:00:00-04:00",
          "2024-06-24T00:00:00-04:00",
          "2024-06-25T00:00:00-04:00",
          "2024-06-26T00:00:00-04:00",
          "2024-06-27T00:00:00-04:00",
          "2024-06-28T00:00:00-04:00",
          "2024-07-01T00:00:00-04:00",
          "2024-07-02T00:00:00-04:00",
          "2024-07-03T00:00:00-04:00",
          "2024-07-05T00:00:00-04:00",
          "2024-07-08T00:00:00-04:00",
          "2024-07-09T00:00:00-04:00",
          "2024-07-10T00:00:00-04:00",
          "2024-07-11T00:00:00-04:00",
          "2024-07-12T00:00:00-04:00",
          "2024-07-15T00:00:00-04:00",
          "2024-07-16T00:00:00-04:00",
          "2024-07-17T00:00:00-04:00",
          "2024-07-18T00:00:00-04:00",
          "2024-07-19T00:00:00-04:00",
          "2024-07-22T00:00:00-04:00",
          "2024-07-23T00:00:00-04:00",
          "2024-07-24T00:00:00-04:00",
          "2024-07-25T00:00:00-04:00",
          "2024-07-26T00:00:00-04:00",
          "2024-07-29T00:00:00-04:00",
          "2024-07-30T00:00:00-04:00",
          "2024-07-31T00:00:00-04:00",
          "2024-08-01T00:00:00-04:00",
          "2024-08-02T00:00:00-04:00",
          "2024-08-05T00:00:00-04:00",
          "2024-08-06T00:00:00-04:00",
          "2024-08-07T00:00:00-04:00",
          "2024-08-08T00:00:00-04:00",
          "2024-08-09T00:00:00-04:00",
          "2024-08-12T00:00:00-04:00",
          "2024-08-13T00:00:00-04:00",
          "2024-08-14T00:00:00-04:00",
          "2024-08-15T00:00:00-04:00",
          "2024-08-16T00:00:00-04:00",
          "2024-08-19T00:00:00-04:00",
          "2024-08-20T00:00:00-04:00",
          "2024-08-21T00:00:00-04:00",
          "2024-08-22T00:00:00-04:00",
          "2024-08-23T00:00:00-04:00",
          "2024-08-26T00:00:00-04:00",
          "2024-08-27T00:00:00-04:00",
          "2024-08-28T00:00:00-04:00",
          "2024-08-29T00:00:00-04:00",
          "2024-08-30T00:00:00-04:00",
          "2024-09-03T00:00:00-04:00",
          "2024-09-04T00:00:00-04:00",
          "2024-09-05T00:00:00-04:00",
          "2024-09-06T00:00:00-04:00",
          "2024-09-09T00:00:00-04:00",
          "2024-09-10T00:00:00-04:00",
          "2024-09-11T00:00:00-04:00",
          "2024-09-12T00:00:00-04:00",
          "2024-09-13T00:00:00-04:00",
          "2024-09-16T00:00:00-04:00",
          "2024-09-17T00:00:00-04:00",
          "2024-09-18T00:00:00-04:00",
          "2024-09-19T00:00:00-04:00",
          "2024-09-20T00:00:00-04:00",
          "2024-09-23T00:00:00-04:00",
          "2024-09-24T00:00:00-04:00",
          "2024-09-25T00:00:00-04:00",
          "2024-09-26T00:00:00-04:00",
          "2024-09-27T00:00:00-04:00",
          "2024-09-30T00:00:00-04:00",
          "2024-10-01T00:00:00-04:00",
          "2024-10-02T00:00:00-04:00",
          "2024-10-03T00:00:00-04:00",
          "2024-10-04T00:00:00-04:00",
          "2024-10-07T00:00:00-04:00",
          "2024-10-08T00:00:00-04:00",
          "2024-10-09T00:00:00-04:00",
          "2024-10-10T00:00:00-04:00",
          "2024-10-11T00:00:00-04:00",
          "2024-10-14T00:00:00-04:00",
          "2024-10-15T00:00:00-04:00",
          "2024-10-16T00:00:00-04:00",
          "2024-10-17T00:00:00-04:00",
          "2024-10-18T00:00:00-04:00",
          "2024-10-21T00:00:00-04:00",
          "2024-10-22T00:00:00-04:00",
          "2024-10-23T00:00:00-04:00",
          "2024-10-24T00:00:00-04:00",
          "2024-10-25T00:00:00-04:00",
          "2024-10-28T00:00:00-04:00",
          "2024-10-29T00:00:00-04:00",
          "2024-10-30T00:00:00-04:00",
          "2024-10-31T00:00:00-04:00",
          "2024-11-01T00:00:00-04:00",
          "2024-11-04T00:00:00-05:00",
          "2024-11-05T00:00:00-05:00",
          "2024-11-06T00:00:00-05:00",
          "2024-11-07T00:00:00-05:00",
          "2024-11-08T00:00:00-05:00",
          "2024-11-11T00:00:00-05:00",
          "2024-11-12T00:00:00-05:00",
          "2024-11-13T00:00:00-05:00",
          "2024-11-14T00:00:00-05:00",
          "2024-11-15T00:00:00-05:00",
          "2024-11-18T00:00:00-05:00",
          "2024-11-19T00:00:00-05:00",
          "2024-11-20T00:00:00-05:00",
          "2024-11-21T00:00:00-05:00",
          "2024-11-22T00:00:00-05:00",
          "2024-11-25T00:00:00-05:00",
          "2024-11-26T00:00:00-05:00",
          "2024-11-27T00:00:00-05:00",
          "2024-11-29T00:00:00-05:00",
          "2024-12-02T00:00:00-05:00",
          "2024-12-03T00:00:00-05:00",
          "2024-12-04T00:00:00-05:00",
          "2024-12-05T00:00:00-05:00",
          "2024-12-06T00:00:00-05:00",
          "2024-12-09T00:00:00-05:00",
          "2024-12-10T00:00:00-05:00",
          "2024-12-11T00:00:00-05:00",
          "2024-12-12T00:00:00-05:00",
          "2024-12-13T00:00:00-05:00",
          "2024-12-16T00:00:00-05:00",
          "2024-12-17T00:00:00-05:00",
          "2024-12-18T00:00:00-05:00",
          "2024-12-19T00:00:00-05:00",
          "2024-12-20T00:00:00-05:00",
          "2024-12-23T00:00:00-05:00",
          "2024-12-24T00:00:00-05:00",
          "2024-12-26T00:00:00-05:00",
          "2024-12-27T00:00:00-05:00",
          "2024-12-30T00:00:00-05:00"
         ],
         "xaxis": "x",
         "y": [
          null,
          null,
          null,
          null,
          null,
          null,
          null,
          null,
          null,
          null,
          null,
          null,
          null,
          null,
          null,
          null,
          null,
          null,
          null,
          217.57250061035157,
          214.51600036621093,
          212.0365005493164,
          209.5355010986328,
          206.7140007019043,
          203.94650115966797,
          201.57750091552734,
          199.3585006713867,
          197.6760009765625,
          196.13800125122071,
          194.34350128173827,
          193.00150146484376,
          192.43000106811525,
          191.81800079345703,
          191.06600036621094,
          190.34750061035157,
          189.8265007019043,
          190.29350051879882,
          191.10100021362305,
          191.54100036621094,
          192.06350021362306,
          192.79300079345703,
          193.48200073242188,
          193.49350051879884,
          193.47750091552734,
          193.04950027465821,
          192.60299987792968,
          191.89199981689453,
          191.10199966430665,
          190.57249908447267,
          189.84549865722656,
          188.5349983215332,
          186.69099884033204,
          185.3834991455078,
          184.26149978637696,
          183.30599975585938,
          182.07649993896484,
          181.0194999694824,
          179.68100051879884,
          178.57800064086913,
          177.46750106811524,
          176.16300048828126,
          174.792000579834,
          173.71650085449218,
          173.0985008239746,
          172.82700119018554,
          172.13950119018554,
          172.02150115966796,
          171.97700119018555,
          171.6880012512207,
          171.94400177001953,
          172.37150192260742,
          172.26700134277343,
          171.43250122070313,
          170.6390007019043,
          169.35250015258788,
          168.06399993896486,
          166.625,
          165.22749938964844,
          164.45049972534179,
          163.96799926757814,
          163.59299926757814,
          164.53449935913085,
          165.36699905395508,
          165.94749908447267,
          166.3924987792969,
          167.20699920654297,
          167.7959991455078,
          167.84249877929688,
          167.99049911499023,
          167.8589988708496,
          167.72999877929686,
          168.25049896240233,
          169.27249908447266,
          170.19949951171876,
          171.44499969482422,
          172.9654998779297,
          174.6104995727539,
          176.7065002441406,
          177.6055000305176,
          177.78350067138672,
          178.33100128173828,
          177.46600112915038,
          177.11150131225585,
          177.0515007019043,
          176.95500106811522,
          176.71000061035156,
          176.21050109863282,
          176.07000122070312,
          176.2310012817383,
          176.5065010070801,
          176.77250061035156,
          176.71100082397462,
          176.69800033569337,
          177.12200012207032,
          177.28050003051757,
          177.77949981689454,
          178.275,
          178.02350006103515,
          178.1684997558594,
          178.6104995727539,
          179.0159996032715,
          179.99699935913085,
          181.05849914550782,
          182.01299972534179,
          183.60199966430665,
          186.3504997253418,
          189.93149948120117,
          193.75749969482422,
          197.50749969482422,
          201.74999923706054,
          206.22350006103517,
          209.74199981689452,
          213.28899993896485,
          216.7974998474121,
          220.725,
          223.7779998779297,
          226.99649963378906,
          229.87799911499025,
          233.30299911499023,
          236.4929992675781,
          237.92499923706055,
          239.11899948120117,
          240.2379997253418,
          241.94899978637696,
          242.58699951171874,
          242.62750015258788,
          241.15100021362304,
          238.95849990844727,
          236.25550003051757,
          233.1710006713867,
          229.59599990844725,
          227.48649978637695,
          225.075,
          222.31750030517577,
          219.88100051879883,
          217.52500076293944,
          215.77050094604493,
          214.6165008544922,
          213.17700119018554,
          211.9130012512207,
          212.27700119018556,
          211.79750137329103,
          211.82350158691406,
          210.87900161743164,
          210.20850219726563,
          208.8925018310547,
          208.36350173950194,
          208.68550186157228,
          209.27150192260743,
          210.21000213623046,
          212.13050231933593,
          212.72500228881836,
          213.53850250244142,
          214.97250213623047,
          215.98750228881835,
          217.40900192260742,
          218.21650161743165,
          218.7495018005371,
          219.00700149536132,
          219.31200103759767,
          220.34450073242186,
          221.7240005493164,
          223.20800018310547,
          225.26100006103516,
          227.6514991760254,
          230.07499923706055,
          232.78399887084962,
          235.15999908447264,
          237.53099822998047,
          239.01149826049806,
          239.53599853515624,
          241.50349884033204,
          242.73149871826172,
          243.64799880981445,
          244.29399871826172,
          244.74199905395508,
          244.11749954223632,
          243.73649978637695,
          243.3215003967285,
          243.02800064086915,
          241.8765007019043,
          240.9990005493164,
          239.44150085449218,
          237.6265007019043,
          235.45800094604493,
          235.77100143432617,
          236.20750198364257,
          236.2515022277832,
          236.3265022277832,
          236.75300140380858,
          237.2125015258789,
          237.15750122070312,
          237.25800094604492,
          237.60500106811523,
          239.9790008544922,
          242.8860008239746,
          248.05700073242187,
          254.5990005493164,
          260.04499969482424,
          265.49049911499026,
          270.0049987792969,
          275.0059989929199,
          281.00049819946287,
          287.40199813842776,
          293.82099838256835,
          297.7789985656738,
          301.9474983215332,
          305.75149765014646,
          309.6869987487793,
          313.45400009155276,
          318.2194999694824,
          323.625,
          329.0540008544922,
          334.3785003662109,
          338.42649993896487,
          343.04199981689453,
          346.47050018310546,
          349.0199996948242,
          353.83399963378906,
          358.2270004272461,
          364.47950134277346,
          371.59450073242186,
          378.65050048828124,
          383.35700073242185,
          388.0640014648437,
          392.13500061035154,
          396.03700103759763,
          402.221501159668,
          408.01650085449216,
          412.95500030517576,
          416.56750030517577
         ],
         "yaxis": "y"
        },
        {
         "marker": {
          "color": "gray"
         },
         "name": "Volume",
         "type": "bar",
         "x": [
          "2024-01-02T00:00:00-05:00",
          "2024-01-03T00:00:00-05:00",
          "2024-01-04T00:00:00-05:00",
          "2024-01-05T00:00:00-05:00",
          "2024-01-08T00:00:00-05:00",
          "2024-01-09T00:00:00-05:00",
          "2024-01-10T00:00:00-05:00",
          "2024-01-11T00:00:00-05:00",
          "2024-01-12T00:00:00-05:00",
          "2024-01-16T00:00:00-05:00",
          "2024-01-17T00:00:00-05:00",
          "2024-01-18T00:00:00-05:00",
          "2024-01-19T00:00:00-05:00",
          "2024-01-22T00:00:00-05:00",
          "2024-01-23T00:00:00-05:00",
          "2024-01-24T00:00:00-05:00",
          "2024-01-25T00:00:00-05:00",
          "2024-01-26T00:00:00-05:00",
          "2024-01-29T00:00:00-05:00",
          "2024-01-30T00:00:00-05:00",
          "2024-01-31T00:00:00-05:00",
          "2024-02-01T00:00:00-05:00",
          "2024-02-02T00:00:00-05:00",
          "2024-02-05T00:00:00-05:00",
          "2024-02-06T00:00:00-05:00",
          "2024-02-07T00:00:00-05:00",
          "2024-02-08T00:00:00-05:00",
          "2024-02-09T00:00:00-05:00",
          "2024-02-12T00:00:00-05:00",
          "2024-02-13T00:00:00-05:00",
          "2024-02-14T00:00:00-05:00",
          "2024-02-15T00:00:00-05:00",
          "2024-02-16T00:00:00-05:00",
          "2024-02-20T00:00:00-05:00",
          "2024-02-21T00:00:00-05:00",
          "2024-02-22T00:00:00-05:00",
          "2024-02-23T00:00:00-05:00",
          "2024-02-26T00:00:00-05:00",
          "2024-02-27T00:00:00-05:00",
          "2024-02-28T00:00:00-05:00",
          "2024-02-29T00:00:00-05:00",
          "2024-03-01T00:00:00-05:00",
          "2024-03-04T00:00:00-05:00",
          "2024-03-05T00:00:00-05:00",
          "2024-03-06T00:00:00-05:00",
          "2024-03-07T00:00:00-05:00",
          "2024-03-08T00:00:00-05:00",
          "2024-03-11T00:00:00-04:00",
          "2024-03-12T00:00:00-04:00",
          "2024-03-13T00:00:00-04:00",
          "2024-03-14T00:00:00-04:00",
          "2024-03-15T00:00:00-04:00",
          "2024-03-18T00:00:00-04:00",
          "2024-03-19T00:00:00-04:00",
          "2024-03-20T00:00:00-04:00",
          "2024-03-21T00:00:00-04:00",
          "2024-03-22T00:00:00-04:00",
          "2024-03-25T00:00:00-04:00",
          "2024-03-26T00:00:00-04:00",
          "2024-03-27T00:00:00-04:00",
          "2024-03-28T00:00:00-04:00",
          "2024-04-01T00:00:00-04:00",
          "2024-04-02T00:00:00-04:00",
          "2024-04-03T00:00:00-04:00",
          "2024-04-04T00:00:00-04:00",
          "2024-04-05T00:00:00-04:00",
          "2024-04-08T00:00:00-04:00",
          "2024-04-09T00:00:00-04:00",
          "2024-04-10T00:00:00-04:00",
          "2024-04-11T00:00:00-04:00",
          "2024-04-12T00:00:00-04:00",
          "2024-04-15T00:00:00-04:00",
          "2024-04-16T00:00:00-04:00",
          "2024-04-17T00:00:00-04:00",
          "2024-04-18T00:00:00-04:00",
          "2024-04-19T00:00:00-04:00",
          "2024-04-22T00:00:00-04:00",
          "2024-04-23T00:00:00-04:00",
          "2024-04-24T00:00:00-04:00",
          "2024-04-25T00:00:00-04:00",
          "2024-04-26T00:00:00-04:00",
          "2024-04-29T00:00:00-04:00",
          "2024-04-30T00:00:00-04:00",
          "2024-05-01T00:00:00-04:00",
          "2024-05-02T00:00:00-04:00",
          "2024-05-03T00:00:00-04:00",
          "2024-05-06T00:00:00-04:00",
          "2024-05-07T00:00:00-04:00",
          "2024-05-08T00:00:00-04:00",
          "2024-05-09T00:00:00-04:00",
          "2024-05-10T00:00:00-04:00",
          "2024-05-13T00:00:00-04:00",
          "2024-05-14T00:00:00-04:00",
          "2024-05-15T00:00:00-04:00",
          "2024-05-16T00:00:00-04:00",
          "2024-05-17T00:00:00-04:00",
          "2024-05-20T00:00:00-04:00",
          "2024-05-21T00:00:00-04:00",
          "2024-05-22T00:00:00-04:00",
          "2024-05-23T00:00:00-04:00",
          "2024-05-24T00:00:00-04:00",
          "2024-05-28T00:00:00-04:00",
          "2024-05-29T00:00:00-04:00",
          "2024-05-30T00:00:00-04:00",
          "2024-05-31T00:00:00-04:00",
          "2024-06-03T00:00:00-04:00",
          "2024-06-04T00:00:00-04:00",
          "2024-06-05T00:00:00-04:00",
          "2024-06-06T00:00:00-04:00",
          "2024-06-07T00:00:00-04:00",
          "2024-06-10T00:00:00-04:00",
          "2024-06-11T00:00:00-04:00",
          "2024-06-12T00:00:00-04:00",
          "2024-06-13T00:00:00-04:00",
          "2024-06-14T00:00:00-04:00",
          "2024-06-17T00:00:00-04:00",
          "2024-06-18T00:00:00-04:00",
          "2024-06-20T00:00:00-04:00",
          "2024-06-21T00:00:00-04:00",
          "2024-06-24T00:00:00-04:00",
          "2024-06-25T00:00:00-04:00",
          "2024-06-26T00:00:00-04:00",
          "2024-06-27T00:00:00-04:00",
          "2024-06-28T00:00:00-04:00",
          "2024-07-01T00:00:00-04:00",
          "2024-07-02T00:00:00-04:00",
          "2024-07-03T00:00:00-04:00",
          "2024-07-05T00:00:00-04:00",
          "2024-07-08T00:00:00-04:00",
          "2024-07-09T00:00:00-04:00",
          "2024-07-10T00:00:00-04:00",
          "2024-07-11T00:00:00-04:00",
          "2024-07-12T00:00:00-04:00",
          "2024-07-15T00:00:00-04:00",
          "2024-07-16T00:00:00-04:00",
          "2024-07-17T00:00:00-04:00",
          "2024-07-18T00:00:00-04:00",
          "2024-07-19T00:00:00-04:00",
          "2024-07-22T00:00:00-04:00",
          "2024-07-23T00:00:00-04:00",
          "2024-07-24T00:00:00-04:00",
          "2024-07-25T00:00:00-04:00",
          "2024-07-26T00:00:00-04:00",
          "2024-07-29T00:00:00-04:00",
          "2024-07-30T00:00:00-04:00",
          "2024-07-31T00:00:00-04:00",
          "2024-08-01T00:00:00-04:00",
          "2024-08-02T00:00:00-04:00",
          "2024-08-05T00:00:00-04:00",
          "2024-08-06T00:00:00-04:00",
          "2024-08-07T00:00:00-04:00",
          "2024-08-08T00:00:00-04:00",
          "2024-08-09T00:00:00-04:00",
          "2024-08-12T00:00:00-04:00",
          "2024-08-13T00:00:00-04:00",
          "2024-08-14T00:00:00-04:00",
          "2024-08-15T00:00:00-04:00",
          "2024-08-16T00:00:00-04:00",
          "2024-08-19T00:00:00-04:00",
          "2024-08-20T00:00:00-04:00",
          "2024-08-21T00:00:00-04:00",
          "2024-08-22T00:00:00-04:00",
          "2024-08-23T00:00:00-04:00",
          "2024-08-26T00:00:00-04:00",
          "2024-08-27T00:00:00-04:00",
          "2024-08-28T00:00:00-04:00",
          "2024-08-29T00:00:00-04:00",
          "2024-08-30T00:00:00-04:00",
          "2024-09-03T00:00:00-04:00",
          "2024-09-04T00:00:00-04:00",
          "2024-09-05T00:00:00-04:00",
          "2024-09-06T00:00:00-04:00",
          "2024-09-09T00:00:00-04:00",
          "2024-09-10T00:00:00-04:00",
          "2024-09-11T00:00:00-04:00",
          "2024-09-12T00:00:00-04:00",
          "2024-09-13T00:00:00-04:00",
          "2024-09-16T00:00:00-04:00",
          "2024-09-17T00:00:00-04:00",
          "2024-09-18T00:00:00-04:00",
          "2024-09-19T00:00:00-04:00",
          "2024-09-20T00:00:00-04:00",
          "2024-09-23T00:00:00-04:00",
          "2024-09-24T00:00:00-04:00",
          "2024-09-25T00:00:00-04:00",
          "2024-09-26T00:00:00-04:00",
          "2024-09-27T00:00:00-04:00",
          "2024-09-30T00:00:00-04:00",
          "2024-10-01T00:00:00-04:00",
          "2024-10-02T00:00:00-04:00",
          "2024-10-03T00:00:00-04:00",
          "2024-10-04T00:00:00-04:00",
          "2024-10-07T00:00:00-04:00",
          "2024-10-08T00:00:00-04:00",
          "2024-10-09T00:00:00-04:00",
          "2024-10-10T00:00:00-04:00",
          "2024-10-11T00:00:00-04:00",
          "2024-10-14T00:00:00-04:00",
          "2024-10-15T00:00:00-04:00",
          "2024-10-16T00:00:00-04:00",
          "2024-10-17T00:00:00-04:00",
          "2024-10-18T00:00:00-04:00",
          "2024-10-21T00:00:00-04:00",
          "2024-10-22T00:00:00-04:00",
          "2024-10-23T00:00:00-04:00",
          "2024-10-24T00:00:00-04:00",
          "2024-10-25T00:00:00-04:00",
          "2024-10-28T00:00:00-04:00",
          "2024-10-29T00:00:00-04:00",
          "2024-10-30T00:00:00-04:00",
          "2024-10-31T00:00:00-04:00",
          "2024-11-01T00:00:00-04:00",
          "2024-11-04T00:00:00-05:00",
          "2024-11-05T00:00:00-05:00",
          "2024-11-06T00:00:00-05:00",
          "2024-11-07T00:00:00-05:00",
          "2024-11-08T00:00:00-05:00",
          "2024-11-11T00:00:00-05:00",
          "2024-11-12T00:00:00-05:00",
          "2024-11-13T00:00:00-05:00",
          "2024-11-14T00:00:00-05:00",
          "2024-11-15T00:00:00-05:00",
          "2024-11-18T00:00:00-05:00",
          "2024-11-19T00:00:00-05:00",
          "2024-11-20T00:00:00-05:00",
          "2024-11-21T00:00:00-05:00",
          "2024-11-22T00:00:00-05:00",
          "2024-11-25T00:00:00-05:00",
          "2024-11-26T00:00:00-05:00",
          "2024-11-27T00:00:00-05:00",
          "2024-11-29T00:00:00-05:00",
          "2024-12-02T00:00:00-05:00",
          "2024-12-03T00:00:00-05:00",
          "2024-12-04T00:00:00-05:00",
          "2024-12-05T00:00:00-05:00",
          "2024-12-06T00:00:00-05:00",
          "2024-12-09T00:00:00-05:00",
          "2024-12-10T00:00:00-05:00",
          "2024-12-11T00:00:00-05:00",
          "2024-12-12T00:00:00-05:00",
          "2024-12-13T00:00:00-05:00",
          "2024-12-16T00:00:00-05:00",
          "2024-12-17T00:00:00-05:00",
          "2024-12-18T00:00:00-05:00",
          "2024-12-19T00:00:00-05:00",
          "2024-12-20T00:00:00-05:00",
          "2024-12-23T00:00:00-05:00",
          "2024-12-24T00:00:00-05:00",
          "2024-12-26T00:00:00-05:00",
          "2024-12-27T00:00:00-05:00",
          "2024-12-30T00:00:00-05:00"
         ],
         "xaxis": "x2",
         "y": [
          104654200,
          121082600,
          102629300,
          92379400,
          85166600,
          96705700,
          91628500,
          105873600,
          122889000,
          115355000,
          103164400,
          108595400,
          102095800,
          117952500,
          106605900,
          123369900,
          198076800,
          107343200,
          125013100,
          109982300,
          103221400,
          91843300,
          110505100,
          134294400,
          122676000,
          111535200,
          83034000,
          84476300,
          95498600,
          86759500,
          81203000,
          120831800,
          111173600,
          104545800,
          103844000,
          92739500,
          78841900,
          111747100,
          108645400,
          99806200,
          85907000,
          82099200,
          134334900,
          119660800,
          107920900,
          102129000,
          85315300,
          85391500,
          87391700,
          106524500,
          126325700,
          96971900,
          108214400,
          77271400,
          83846700,
          73178000,
          75454700,
          74228600,
          113186200,
          81804000,
          77654800,
          81562100,
          116650600,
          82950100,
          123162000,
          141250700,
          104423300,
          103232700,
          84532400,
          94516000,
          64506600,
          100245300,
          97000000,
          82439700,
          96098800,
          86005100,
          107097600,
          124545100,
          181178000,
          126427500,
          109815700,
          243869700,
          127031800,
          92829700,
          89148000,
          75491500,
          84390300,
          75045900,
          79969500,
          65950300,
          72627200,
          67018900,
          86407400,
          79663000,
          59812200,
          77445800,
          61727400,
          115266500,
          88313500,
          71975500,
          65479700,
          59736600,
          54782600,
          77784800,
          67314600,
          68568900,
          60056300,
          57953800,
          69887000,
          56244900,
          50869700,
          64761900,
          90389400,
          118984100,
          82038200,
          109786100,
          68982300,
          55893100,
          63029500,
          61992100,
          63678300,
          95737100,
          72746500,
          95438100,
          135691400,
          205047900,
          166561500,
          154501200,
          157219600,
          160210900,
          128519400,
          221707300,
          155955800,
          146912900,
          126332500,
          115584800,
          110869000,
          87403900,
          101225400,
          111928200,
          167942900,
          100636500,
          94604100,
          129201800,
          100560300,
          67497000,
          83861900,
          82880100,
          100308800,
          73783900,
          71159800,
          65033900,
          58648300,
          64044900,
          76247400,
          70250000,
          89848500,
          88765100,
          76435200,
          74001200,
          70146000,
          79514500,
          81525200,
          59301200,
          62821400,
          64116400,
          62308800,
          63370600,
          76714200,
          80651800,
          119355000,
          112177000,
          67443500,
          78891100,
          83548600,
          72020000,
          59515100,
          54323000,
          66761600,
          78010200,
          102694600,
          99879100,
          86927200,
          88491000,
          65034300,
          67142200,
          70988100,
          80705700,
          87397600,
          93983900,
          80729200,
          86573200,
          68113300,
          56303200,
          66289500,
          83087100,
          142628900,
          86291900,
          62988800,
          49632800,
          50791800,
          49611900,
          47329000,
          43268700,
          80938900,
          204491900,
          161611900,
          107653600,
          80521800,
          53993600,
          66575300,
          57544800,
          68802400,
          69282500,
          165228700,
          117309200,
          204782800,
          210521600,
          155726000,
          125405600,
          120726100,
          114440300,
          126547500,
          88852500,
          66340700,
          58011700,
          89140700,
          95890900,
          62295900,
          57896400,
          37167600,
          77986500,
          58267200,
          50810900,
          81403600,
          81455800,
          96359200,
          97563600,
          104287600,
          87752200,
          89000200,
          114083800,
          131223000,
          149340800,
          118566100,
          132216200,
          72698100,
          59551800,
          76366400,
          82666800,
          64941000
         ],
         "yaxis": "y2"
        }
       ],
       "layout": {
        "annotations": [
         {
          "font": {
           "size": 16
          },
          "showarrow": false,
          "text": "Candlestick",
          "x": 0.5,
          "xanchor": "center",
          "xref": "paper",
          "y": 1,
          "yanchor": "bottom",
          "yref": "paper"
         },
         {
          "font": {
           "size": 16
          },
          "showarrow": false,
          "text": "Volume",
          "x": 0.5,
          "xanchor": "center",
          "xref": "paper",
          "y": 0.27,
          "yanchor": "bottom",
          "yref": "paper"
         }
        ],
        "height": 800,
        "showlegend": true,
        "template": {
         "data": {
          "bar": [
           {
            "error_x": {
             "color": "#2a3f5f"
            },
            "error_y": {
             "color": "#2a3f5f"
            },
            "marker": {
             "line": {
              "color": "white",
              "width": 0.5
             },
             "pattern": {
              "fillmode": "overlay",
              "size": 10,
              "solidity": 0.2
             }
            },
            "type": "bar"
           }
          ],
          "barpolar": [
           {
            "marker": {
             "line": {
              "color": "white",
              "width": 0.5
             },
             "pattern": {
              "fillmode": "overlay",
              "size": 10,
              "solidity": 0.2
             }
            },
            "type": "barpolar"
           }
          ],
          "carpet": [
           {
            "aaxis": {
             "endlinecolor": "#2a3f5f",
             "gridcolor": "#C8D4E3",
             "linecolor": "#C8D4E3",
             "minorgridcolor": "#C8D4E3",
             "startlinecolor": "#2a3f5f"
            },
            "baxis": {
             "endlinecolor": "#2a3f5f",
             "gridcolor": "#C8D4E3",
             "linecolor": "#C8D4E3",
             "minorgridcolor": "#C8D4E3",
             "startlinecolor": "#2a3f5f"
            },
            "type": "carpet"
           }
          ],
          "choropleth": [
           {
            "colorbar": {
             "outlinewidth": 0,
             "ticks": ""
            },
            "type": "choropleth"
           }
          ],
          "contour": [
           {
            "colorbar": {
             "outlinewidth": 0,
             "ticks": ""
            },
            "colorscale": [
             [
              0,
              "#0d0887"
             ],
             [
              0.1111111111111111,
              "#46039f"
             ],
             [
              0.2222222222222222,
              "#7201a8"
             ],
             [
              0.3333333333333333,
              "#9c179e"
             ],
             [
              0.4444444444444444,
              "#bd3786"
             ],
             [
              0.5555555555555556,
              "#d8576b"
             ],
             [
              0.6666666666666666,
              "#ed7953"
             ],
             [
              0.7777777777777778,
              "#fb9f3a"
             ],
             [
              0.8888888888888888,
              "#fdca26"
             ],
             [
              1,
              "#f0f921"
             ]
            ],
            "type": "contour"
           }
          ],
          "contourcarpet": [
           {
            "colorbar": {
             "outlinewidth": 0,
             "ticks": ""
            },
            "type": "contourcarpet"
           }
          ],
          "heatmap": [
           {
            "colorbar": {
             "outlinewidth": 0,
             "ticks": ""
            },
            "colorscale": [
             [
              0,
              "#0d0887"
             ],
             [
              0.1111111111111111,
              "#46039f"
             ],
             [
              0.2222222222222222,
              "#7201a8"
             ],
             [
              0.3333333333333333,
              "#9c179e"
             ],
             [
              0.4444444444444444,
              "#bd3786"
             ],
             [
              0.5555555555555556,
              "#d8576b"
             ],
             [
              0.6666666666666666,
              "#ed7953"
             ],
             [
              0.7777777777777778,
              "#fb9f3a"
             ],
             [
              0.8888888888888888,
              "#fdca26"
             ],
             [
              1,
              "#f0f921"
             ]
            ],
            "type": "heatmap"
           }
          ],
          "heatmapgl": [
           {
            "colorbar": {
             "outlinewidth": 0,
             "ticks": ""
            },
            "colorscale": [
             [
              0,
              "#0d0887"
             ],
             [
              0.1111111111111111,
              "#46039f"
             ],
             [
              0.2222222222222222,
              "#7201a8"
             ],
             [
              0.3333333333333333,
              "#9c179e"
             ],
             [
              0.4444444444444444,
              "#bd3786"
             ],
             [
              0.5555555555555556,
              "#d8576b"
             ],
             [
              0.6666666666666666,
              "#ed7953"
             ],
             [
              0.7777777777777778,
              "#fb9f3a"
             ],
             [
              0.8888888888888888,
              "#fdca26"
             ],
             [
              1,
              "#f0f921"
             ]
            ],
            "type": "heatmapgl"
           }
          ],
          "histogram": [
           {
            "marker": {
             "pattern": {
              "fillmode": "overlay",
              "size": 10,
              "solidity": 0.2
             }
            },
            "type": "histogram"
           }
          ],
          "histogram2d": [
           {
            "colorbar": {
             "outlinewidth": 0,
             "ticks": ""
            },
            "colorscale": [
             [
              0,
              "#0d0887"
             ],
             [
              0.1111111111111111,
              "#46039f"
             ],
             [
              0.2222222222222222,
              "#7201a8"
             ],
             [
              0.3333333333333333,
              "#9c179e"
             ],
             [
              0.4444444444444444,
              "#bd3786"
             ],
             [
              0.5555555555555556,
              "#d8576b"
             ],
             [
              0.6666666666666666,
              "#ed7953"
             ],
             [
              0.7777777777777778,
              "#fb9f3a"
             ],
             [
              0.8888888888888888,
              "#fdca26"
             ],
             [
              1,
              "#f0f921"
             ]
            ],
            "type": "histogram2d"
           }
          ],
          "histogram2dcontour": [
           {
            "colorbar": {
             "outlinewidth": 0,
             "ticks": ""
            },
            "colorscale": [
             [
              0,
              "#0d0887"
             ],
             [
              0.1111111111111111,
              "#46039f"
             ],
             [
              0.2222222222222222,
              "#7201a8"
             ],
             [
              0.3333333333333333,
              "#9c179e"
             ],
             [
              0.4444444444444444,
              "#bd3786"
             ],
             [
              0.5555555555555556,
              "#d8576b"
             ],
             [
              0.6666666666666666,
              "#ed7953"
             ],
             [
              0.7777777777777778,
              "#fb9f3a"
             ],
             [
              0.8888888888888888,
              "#fdca26"
             ],
             [
              1,
              "#f0f921"
             ]
            ],
            "type": "histogram2dcontour"
           }
          ],
          "mesh3d": [
           {
            "colorbar": {
             "outlinewidth": 0,
             "ticks": ""
            },
            "type": "mesh3d"
           }
          ],
          "parcoords": [
           {
            "line": {
             "colorbar": {
              "outlinewidth": 0,
              "ticks": ""
             }
            },
            "type": "parcoords"
           }
          ],
          "pie": [
           {
            "automargin": true,
            "type": "pie"
           }
          ],
          "scatter": [
           {
            "fillpattern": {
             "fillmode": "overlay",
             "size": 10,
             "solidity": 0.2
            },
            "type": "scatter"
           }
          ],
          "scatter3d": [
           {
            "line": {
             "colorbar": {
              "outlinewidth": 0,
              "ticks": ""
             }
            },
            "marker": {
             "colorbar": {
              "outlinewidth": 0,
              "ticks": ""
             }
            },
            "type": "scatter3d"
           }
          ],
          "scattercarpet": [
           {
            "marker": {
             "colorbar": {
              "outlinewidth": 0,
              "ticks": ""
             }
            },
            "type": "scattercarpet"
           }
          ],
          "scattergeo": [
           {
            "marker": {
             "colorbar": {
              "outlinewidth": 0,
              "ticks": ""
             }
            },
            "type": "scattergeo"
           }
          ],
          "scattergl": [
           {
            "marker": {
             "colorbar": {
              "outlinewidth": 0,
              "ticks": ""
             }
            },
            "type": "scattergl"
           }
          ],
          "scattermapbox": [
           {
            "marker": {
             "colorbar": {
              "outlinewidth": 0,
              "ticks": ""
             }
            },
            "type": "scattermapbox"
           }
          ],
          "scatterpolar": [
           {
            "marker": {
             "colorbar": {
              "outlinewidth": 0,
              "ticks": ""
             }
            },
            "type": "scatterpolar"
           }
          ],
          "scatterpolargl": [
           {
            "marker": {
             "colorbar": {
              "outlinewidth": 0,
              "ticks": ""
             }
            },
            "type": "scatterpolargl"
           }
          ],
          "scatterternary": [
           {
            "marker": {
             "colorbar": {
              "outlinewidth": 0,
              "ticks": ""
             }
            },
            "type": "scatterternary"
           }
          ],
          "surface": [
           {
            "colorbar": {
             "outlinewidth": 0,
             "ticks": ""
            },
            "colorscale": [
             [
              0,
              "#0d0887"
             ],
             [
              0.1111111111111111,
              "#46039f"
             ],
             [
              0.2222222222222222,
              "#7201a8"
             ],
             [
              0.3333333333333333,
              "#9c179e"
             ],
             [
              0.4444444444444444,
              "#bd3786"
             ],
             [
              0.5555555555555556,
              "#d8576b"
             ],
             [
              0.6666666666666666,
              "#ed7953"
             ],
             [
              0.7777777777777778,
              "#fb9f3a"
             ],
             [
              0.8888888888888888,
              "#fdca26"
             ],
             [
              1,
              "#f0f921"
             ]
            ],
            "type": "surface"
           }
          ],
          "table": [
           {
            "cells": {
             "fill": {
              "color": "#EBF0F8"
             },
             "line": {
              "color": "white"
             }
            },
            "header": {
             "fill": {
              "color": "#C8D4E3"
             },
             "line": {
              "color": "white"
             }
            },
            "type": "table"
           }
          ]
         },
         "layout": {
          "annotationdefaults": {
           "arrowcolor": "#2a3f5f",
           "arrowhead": 0,
           "arrowwidth": 1
          },
          "autotypenumbers": "strict",
          "coloraxis": {
           "colorbar": {
            "outlinewidth": 0,
            "ticks": ""
           }
          },
          "colorscale": {
           "diverging": [
            [
             0,
             "#8e0152"
            ],
            [
             0.1,
             "#c51b7d"
            ],
            [
             0.2,
             "#de77ae"
            ],
            [
             0.3,
             "#f1b6da"
            ],
            [
             0.4,
             "#fde0ef"
            ],
            [
             0.5,
             "#f7f7f7"
            ],
            [
             0.6,
             "#e6f5d0"
            ],
            [
             0.7,
             "#b8e186"
            ],
            [
             0.8,
             "#7fbc41"
            ],
            [
             0.9,
             "#4d9221"
            ],
            [
             1,
             "#276419"
            ]
           ],
           "sequential": [
            [
             0,
             "#0d0887"
            ],
            [
             0.1111111111111111,
             "#46039f"
            ],
            [
             0.2222222222222222,
             "#7201a8"
            ],
            [
             0.3333333333333333,
             "#9c179e"
            ],
            [
             0.4444444444444444,
             "#bd3786"
            ],
            [
             0.5555555555555556,
             "#d8576b"
            ],
            [
             0.6666666666666666,
             "#ed7953"
            ],
            [
             0.7777777777777778,
             "#fb9f3a"
            ],
            [
             0.8888888888888888,
             "#fdca26"
            ],
            [
             1,
             "#f0f921"
            ]
           ],
           "sequentialminus": [
            [
             0,
             "#0d0887"
            ],
            [
             0.1111111111111111,
             "#46039f"
            ],
            [
             0.2222222222222222,
             "#7201a8"
            ],
            [
             0.3333333333333333,
             "#9c179e"
            ],
            [
             0.4444444444444444,
             "#bd3786"
            ],
            [
             0.5555555555555556,
             "#d8576b"
            ],
            [
             0.6666666666666666,
             "#ed7953"
            ],
            [
             0.7777777777777778,
             "#fb9f3a"
            ],
            [
             0.8888888888888888,
             "#fdca26"
            ],
            [
             1,
             "#f0f921"
            ]
           ]
          },
          "colorway": [
           "#636efa",
           "#EF553B",
           "#00cc96",
           "#ab63fa",
           "#FFA15A",
           "#19d3f3",
           "#FF6692",
           "#B6E880",
           "#FF97FF",
           "#FECB52"
          ],
          "font": {
           "color": "#2a3f5f"
          },
          "geo": {
           "bgcolor": "white",
           "lakecolor": "white",
           "landcolor": "white",
           "showlakes": true,
           "showland": true,
           "subunitcolor": "#C8D4E3"
          },
          "hoverlabel": {
           "align": "left"
          },
          "hovermode": "closest",
          "mapbox": {
           "style": "light"
          },
          "paper_bgcolor": "white",
          "plot_bgcolor": "white",
          "polar": {
           "angularaxis": {
            "gridcolor": "#EBF0F8",
            "linecolor": "#EBF0F8",
            "ticks": ""
           },
           "bgcolor": "white",
           "radialaxis": {
            "gridcolor": "#EBF0F8",
            "linecolor": "#EBF0F8",
            "ticks": ""
           }
          },
          "scene": {
           "xaxis": {
            "backgroundcolor": "white",
            "gridcolor": "#DFE8F3",
            "gridwidth": 2,
            "linecolor": "#EBF0F8",
            "showbackground": true,
            "ticks": "",
            "zerolinecolor": "#EBF0F8"
           },
           "yaxis": {
            "backgroundcolor": "white",
            "gridcolor": "#DFE8F3",
            "gridwidth": 2,
            "linecolor": "#EBF0F8",
            "showbackground": true,
            "ticks": "",
            "zerolinecolor": "#EBF0F8"
           },
           "zaxis": {
            "backgroundcolor": "white",
            "gridcolor": "#DFE8F3",
            "gridwidth": 2,
            "linecolor": "#EBF0F8",
            "showbackground": true,
            "ticks": "",
            "zerolinecolor": "#EBF0F8"
           }
          },
          "shapedefaults": {
           "line": {
            "color": "#2a3f5f"
           }
          },
          "ternary": {
           "aaxis": {
            "gridcolor": "#DFE8F3",
            "linecolor": "#A2B1C6",
            "ticks": ""
           },
           "baxis": {
            "gridcolor": "#DFE8F3",
            "linecolor": "#A2B1C6",
            "ticks": ""
           },
           "bgcolor": "white",
           "caxis": {
            "gridcolor": "#DFE8F3",
            "linecolor": "#A2B1C6",
            "ticks": ""
           }
          },
          "title": {
           "x": 0.05
          },
          "xaxis": {
           "automargin": true,
           "gridcolor": "#EBF0F8",
           "linecolor": "#EBF0F8",
           "ticks": "",
           "title": {
            "standoff": 15
           },
           "zerolinecolor": "#EBF0F8",
           "zerolinewidth": 2
          },
          "yaxis": {
           "automargin": true,
           "gridcolor": "#EBF0F8",
           "linecolor": "#EBF0F8",
           "ticks": "",
           "title": {
            "standoff": 15
           },
           "zerolinecolor": "#EBF0F8",
           "zerolinewidth": 2
          }
         }
        },
        "title": {
         "text": "TSLA Stock Price Analysis"
        },
        "xaxis": {
         "anchor": "y",
         "domain": [
          0,
          1
         ],
         "matches": "x2",
         "rangeslider": {
          "visible": false
         },
         "showticklabels": false
        },
        "xaxis2": {
         "anchor": "y2",
         "domain": [
          0,
          1
         ],
         "rangeslider": {
          "visible": false
         }
        },
        "yaxis": {
         "anchor": "x",
         "domain": [
          0.37,
          1
         ],
         "title": {
          "text": "Price ($)"
         }
        },
        "yaxis2": {
         "anchor": "x2",
         "domain": [
          0,
          0.27
         ],
         "title": {
          "text": "Volume"
         }
        }
       }
      }
     },
     "metadata": {},
     "output_type": "display_data"
    }
   ],
   "source": [
    "plot = agent.invoke(\"Let's visualize Tesla stock in 2024?\")"
   ]
  },
  {
   "cell_type": "code",
   "execution_count": 3,
   "metadata": {},
   "outputs": [
    {
     "name": "stderr",
     "output_type": "stream",
     "text": [
      "INFO:httpx:HTTP Request: POST https://api.together.xyz/v1/chat/completions \"HTTP/1.1 429 Too Many Requests\"\n",
      "INFO:openai._base_client:Retrying request to /chat/completions in 7.000000 seconds\n",
      "INFO:httpx:HTTP Request: POST https://api.together.xyz/v1/chat/completions \"HTTP/1.1 200 OK\"\n"
     ]
    },
    {
     "data": {
      "application/vnd.plotly.v1+json": {
       "config": {
        "plotlyServerURL": "https://plot.ly"
       },
       "data": [
        {
         "line": {
          "color": "green"
         },
         "mode": "lines",
         "name": "Cumulative Return",
         "type": "scatter",
         "x": [
          "2024-01-02T00:00:00-05:00",
          "2024-01-03T00:00:00-05:00",
          "2024-01-04T00:00:00-05:00",
          "2024-01-05T00:00:00-05:00",
          "2024-01-08T00:00:00-05:00",
          "2024-01-09T00:00:00-05:00",
          "2024-01-10T00:00:00-05:00",
          "2024-01-11T00:00:00-05:00",
          "2024-01-12T00:00:00-05:00",
          "2024-01-16T00:00:00-05:00",
          "2024-01-17T00:00:00-05:00",
          "2024-01-18T00:00:00-05:00",
          "2024-01-19T00:00:00-05:00",
          "2024-01-22T00:00:00-05:00",
          "2024-01-23T00:00:00-05:00",
          "2024-01-24T00:00:00-05:00",
          "2024-01-25T00:00:00-05:00",
          "2024-01-26T00:00:00-05:00",
          "2024-01-29T00:00:00-05:00",
          "2024-01-30T00:00:00-05:00",
          "2024-01-31T00:00:00-05:00",
          "2024-02-01T00:00:00-05:00",
          "2024-02-02T00:00:00-05:00",
          "2024-02-05T00:00:00-05:00",
          "2024-02-06T00:00:00-05:00",
          "2024-02-07T00:00:00-05:00",
          "2024-02-08T00:00:00-05:00",
          "2024-02-09T00:00:00-05:00",
          "2024-02-12T00:00:00-05:00",
          "2024-02-13T00:00:00-05:00",
          "2024-02-14T00:00:00-05:00",
          "2024-02-15T00:00:00-05:00",
          "2024-02-16T00:00:00-05:00",
          "2024-02-20T00:00:00-05:00",
          "2024-02-21T00:00:00-05:00",
          "2024-02-22T00:00:00-05:00",
          "2024-02-23T00:00:00-05:00",
          "2024-02-26T00:00:00-05:00",
          "2024-02-27T00:00:00-05:00",
          "2024-02-28T00:00:00-05:00",
          "2024-02-29T00:00:00-05:00",
          "2024-03-01T00:00:00-05:00",
          "2024-03-04T00:00:00-05:00",
          "2024-03-05T00:00:00-05:00",
          "2024-03-06T00:00:00-05:00",
          "2024-03-07T00:00:00-05:00",
          "2024-03-08T00:00:00-05:00",
          "2024-03-11T00:00:00-04:00",
          "2024-03-12T00:00:00-04:00",
          "2024-03-13T00:00:00-04:00",
          "2024-03-14T00:00:00-04:00",
          "2024-03-15T00:00:00-04:00",
          "2024-03-18T00:00:00-04:00",
          "2024-03-19T00:00:00-04:00",
          "2024-03-20T00:00:00-04:00",
          "2024-03-21T00:00:00-04:00",
          "2024-03-22T00:00:00-04:00",
          "2024-03-25T00:00:00-04:00",
          "2024-03-26T00:00:00-04:00",
          "2024-03-27T00:00:00-04:00",
          "2024-03-28T00:00:00-04:00",
          "2024-04-01T00:00:00-04:00",
          "2024-04-02T00:00:00-04:00",
          "2024-04-03T00:00:00-04:00",
          "2024-04-04T00:00:00-04:00",
          "2024-04-05T00:00:00-04:00",
          "2024-04-08T00:00:00-04:00",
          "2024-04-09T00:00:00-04:00",
          "2024-04-10T00:00:00-04:00",
          "2024-04-11T00:00:00-04:00",
          "2024-04-12T00:00:00-04:00",
          "2024-04-15T00:00:00-04:00",
          "2024-04-16T00:00:00-04:00",
          "2024-04-17T00:00:00-04:00",
          "2024-04-18T00:00:00-04:00",
          "2024-04-19T00:00:00-04:00",
          "2024-04-22T00:00:00-04:00",
          "2024-04-23T00:00:00-04:00",
          "2024-04-24T00:00:00-04:00",
          "2024-04-25T00:00:00-04:00",
          "2024-04-26T00:00:00-04:00",
          "2024-04-29T00:00:00-04:00",
          "2024-04-30T00:00:00-04:00",
          "2024-05-01T00:00:00-04:00",
          "2024-05-02T00:00:00-04:00",
          "2024-05-03T00:00:00-04:00",
          "2024-05-06T00:00:00-04:00",
          "2024-05-07T00:00:00-04:00",
          "2024-05-08T00:00:00-04:00",
          "2024-05-09T00:00:00-04:00",
          "2024-05-10T00:00:00-04:00",
          "2024-05-13T00:00:00-04:00",
          "2024-05-14T00:00:00-04:00",
          "2024-05-15T00:00:00-04:00",
          "2024-05-16T00:00:00-04:00",
          "2024-05-17T00:00:00-04:00",
          "2024-05-20T00:00:00-04:00",
          "2024-05-21T00:00:00-04:00",
          "2024-05-22T00:00:00-04:00",
          "2024-05-23T00:00:00-04:00",
          "2024-05-24T00:00:00-04:00",
          "2024-05-28T00:00:00-04:00",
          "2024-05-29T00:00:00-04:00",
          "2024-05-30T00:00:00-04:00",
          "2024-05-31T00:00:00-04:00",
          "2024-06-03T00:00:00-04:00",
          "2024-06-04T00:00:00-04:00",
          "2024-06-05T00:00:00-04:00",
          "2024-06-06T00:00:00-04:00",
          "2024-06-07T00:00:00-04:00",
          "2024-06-10T00:00:00-04:00",
          "2024-06-11T00:00:00-04:00",
          "2024-06-12T00:00:00-04:00",
          "2024-06-13T00:00:00-04:00",
          "2024-06-14T00:00:00-04:00",
          "2024-06-17T00:00:00-04:00",
          "2024-06-18T00:00:00-04:00",
          "2024-06-20T00:00:00-04:00",
          "2024-06-21T00:00:00-04:00",
          "2024-06-24T00:00:00-04:00",
          "2024-06-25T00:00:00-04:00",
          "2024-06-26T00:00:00-04:00",
          "2024-06-27T00:00:00-04:00",
          "2024-06-28T00:00:00-04:00",
          "2024-07-01T00:00:00-04:00",
          "2024-07-02T00:00:00-04:00",
          "2024-07-03T00:00:00-04:00",
          "2024-07-05T00:00:00-04:00",
          "2024-07-08T00:00:00-04:00",
          "2024-07-09T00:00:00-04:00",
          "2024-07-10T00:00:00-04:00",
          "2024-07-11T00:00:00-04:00",
          "2024-07-12T00:00:00-04:00",
          "2024-07-15T00:00:00-04:00",
          "2024-07-16T00:00:00-04:00",
          "2024-07-17T00:00:00-04:00",
          "2024-07-18T00:00:00-04:00",
          "2024-07-19T00:00:00-04:00",
          "2024-07-22T00:00:00-04:00",
          "2024-07-23T00:00:00-04:00",
          "2024-07-24T00:00:00-04:00",
          "2024-07-25T00:00:00-04:00",
          "2024-07-26T00:00:00-04:00",
          "2024-07-29T00:00:00-04:00",
          "2024-07-30T00:00:00-04:00",
          "2024-07-31T00:00:00-04:00",
          "2024-08-01T00:00:00-04:00",
          "2024-08-02T00:00:00-04:00",
          "2024-08-05T00:00:00-04:00",
          "2024-08-06T00:00:00-04:00",
          "2024-08-07T00:00:00-04:00",
          "2024-08-08T00:00:00-04:00",
          "2024-08-09T00:00:00-04:00",
          "2024-08-12T00:00:00-04:00",
          "2024-08-13T00:00:00-04:00",
          "2024-08-14T00:00:00-04:00",
          "2024-08-15T00:00:00-04:00",
          "2024-08-16T00:00:00-04:00",
          "2024-08-19T00:00:00-04:00",
          "2024-08-20T00:00:00-04:00",
          "2024-08-21T00:00:00-04:00",
          "2024-08-22T00:00:00-04:00",
          "2024-08-23T00:00:00-04:00",
          "2024-08-26T00:00:00-04:00",
          "2024-08-27T00:00:00-04:00",
          "2024-08-28T00:00:00-04:00",
          "2024-08-29T00:00:00-04:00",
          "2024-08-30T00:00:00-04:00",
          "2024-09-03T00:00:00-04:00",
          "2024-09-04T00:00:00-04:00",
          "2024-09-05T00:00:00-04:00",
          "2024-09-06T00:00:00-04:00",
          "2024-09-09T00:00:00-04:00",
          "2024-09-10T00:00:00-04:00",
          "2024-09-11T00:00:00-04:00",
          "2024-09-12T00:00:00-04:00",
          "2024-09-13T00:00:00-04:00",
          "2024-09-16T00:00:00-04:00",
          "2024-09-17T00:00:00-04:00",
          "2024-09-18T00:00:00-04:00",
          "2024-09-19T00:00:00-04:00",
          "2024-09-20T00:00:00-04:00",
          "2024-09-23T00:00:00-04:00",
          "2024-09-24T00:00:00-04:00",
          "2024-09-25T00:00:00-04:00",
          "2024-09-26T00:00:00-04:00",
          "2024-09-27T00:00:00-04:00",
          "2024-09-30T00:00:00-04:00",
          "2024-10-01T00:00:00-04:00",
          "2024-10-02T00:00:00-04:00",
          "2024-10-03T00:00:00-04:00",
          "2024-10-04T00:00:00-04:00",
          "2024-10-07T00:00:00-04:00",
          "2024-10-08T00:00:00-04:00",
          "2024-10-09T00:00:00-04:00",
          "2024-10-10T00:00:00-04:00",
          "2024-10-11T00:00:00-04:00",
          "2024-10-14T00:00:00-04:00",
          "2024-10-15T00:00:00-04:00",
          "2024-10-16T00:00:00-04:00",
          "2024-10-17T00:00:00-04:00",
          "2024-10-18T00:00:00-04:00",
          "2024-10-21T00:00:00-04:00",
          "2024-10-22T00:00:00-04:00",
          "2024-10-23T00:00:00-04:00",
          "2024-10-24T00:00:00-04:00",
          "2024-10-25T00:00:00-04:00",
          "2024-10-28T00:00:00-04:00",
          "2024-10-29T00:00:00-04:00",
          "2024-10-30T00:00:00-04:00",
          "2024-10-31T00:00:00-04:00",
          "2024-11-01T00:00:00-04:00",
          "2024-11-04T00:00:00-05:00",
          "2024-11-05T00:00:00-05:00",
          "2024-11-06T00:00:00-05:00",
          "2024-11-07T00:00:00-05:00",
          "2024-11-08T00:00:00-05:00",
          "2024-11-11T00:00:00-05:00",
          "2024-11-12T00:00:00-05:00",
          "2024-11-13T00:00:00-05:00",
          "2024-11-14T00:00:00-05:00",
          "2024-11-15T00:00:00-05:00",
          "2024-11-18T00:00:00-05:00",
          "2024-11-19T00:00:00-05:00",
          "2024-11-20T00:00:00-05:00",
          "2024-11-21T00:00:00-05:00",
          "2024-11-22T00:00:00-05:00",
          "2024-11-25T00:00:00-05:00",
          "2024-11-26T00:00:00-05:00",
          "2024-11-27T00:00:00-05:00",
          "2024-11-29T00:00:00-05:00",
          "2024-12-02T00:00:00-05:00",
          "2024-12-03T00:00:00-05:00",
          "2024-12-04T00:00:00-05:00",
          "2024-12-05T00:00:00-05:00",
          "2024-12-06T00:00:00-05:00",
          "2024-12-09T00:00:00-05:00",
          "2024-12-10T00:00:00-05:00",
          "2024-12-11T00:00:00-05:00",
          "2024-12-12T00:00:00-05:00",
          "2024-12-13T00:00:00-05:00",
          "2024-12-16T00:00:00-05:00",
          "2024-12-17T00:00:00-05:00",
          "2024-12-18T00:00:00-05:00",
          "2024-12-19T00:00:00-05:00",
          "2024-12-20T00:00:00-05:00",
          "2024-12-23T00:00:00-05:00",
          "2024-12-24T00:00:00-05:00",
          "2024-12-26T00:00:00-05:00",
          "2024-12-27T00:00:00-05:00",
          "2024-12-30T00:00:00-05:00"
         ],
         "y": [
          null,
          -4.013364984377277,
          -4.222689626633858,
          -4.39980386295149,
          -3.208276821289935,
          -5.418239897870169,
          -5.828836580898578,
          -8.533933300258912,
          -11.887126236597966,
          -11.47652955356956,
          -13.231621994793407,
          -14.70895803697847,
          -14.584170354473569,
          -15.948794545213218,
          -15.811931031648829,
          -16.339262795697408,
          -26.483372422131023,
          -26.233797057121212,
          -23.142261459186674,
          -22.87658089120739,
          -24.60752167031225,
          -23.975524513967763,
          -24.357940162967218,
          -27.11536957847549,
          -25.48908804933131,
          -24.49078044695685,
          -23.69374488535424,
          -22.079539187269546,
          -24.269379973640792,
          -25.923836394478716,
          -24.035903669265235,
          -19.310040083037016,
          -19.511312123808857,
          -22.003060971337852,
          -21.5964875178842,
          -20.533771388302302,
          -22.723612174673534,
          -19.732712597124923,
          -19.59987231313528,
          -18.669996467543015,
          -18.734398852415236,
          -18.428467561682726,
          -24.265356744066047,
          -27.24418049055517,
          -28.934870546906787,
          -28.085502289156217,
          -29.417922216292148,
          -28.43973690412669,
          -28.5323264653631,
          -31.7768307798315,
          -34.5865867491525,
          -34.15586163357985,
          -30.03783739924191,
          -31.036145001616365,
          -29.28910516187726,
          -30.43232887930084,
          -31.233393812813436,
          -30.50881323756778,
          -28.479993769215138,
          -27.61049707892035,
          -29.23677860806453,
          -29.4662255405301,
          -32.92407772682983,
          -32.21962558412839,
          -31.120681961368014,
          -33.62048341038174,
          -30.36792649442861,
          -28.798000891007124,
          -30.859030765298712,
          -29.71580090553989,
          -31.14483362348699,
          -34.99718343218089,
          -36.75629910297948,
          -37.42452375250244,
          -39.6465688024774,
          -40.80589158053524,
          -42.81861198825362,
          -41.75992523058171,
          -34.73552609377636,
          -31.495051151217936,
          -32.25585921964208,
          -21.88631974798242,
          -26.22172122606168,
          -27.546088551712877,
          -27.538042092563366,
          -27.063036882327516,
          -25.625957705230917,
          -28.423637843492422,
          -29.667497581301927,
          -30.77449380554703,
          -32.1833980909499,
          -30.80669806915074,
          -28.52829709345307,
          -29.961353040974924,
          -29.61919425706393,
          -28.564524586631546,
          -29.574914162400724,
          -24.88527192701574,
          -27.49778522747488,
          -30.061989061360826,
          -27.847996612870606,
          -28.850333587155042,
          -29.075757290045868,
          -28.029146363433455,
          -28.314949221621745,
          -29.035506567292657,
          -29.647369148757686,
          -29.554785729856516,
          -28.371305147344472,
          -28.556478127482066,
          -30.04186677115187,
          -31.30182556959562,
          -28.63296248574899,
          -26.547780949338428,
          -28.343130255650728,
          -24.547136372679546,
          -25.585700840142454,
          -26.910068165793653,
          -26.33040984793236,
          -26.50350085467523,
          -24.583363865858033,
          -20.952420672815432,
          -20.52974815872751,
          -20.34457517858993,
          -15.522098801550543,
          -6.907657913449938,
          -0.817163994146819,
          1.2478891097195133,
          1.819500968431309,
          5.599383506097788,
          5.973758838282972,
          -2.9748005169143332,
          -0.07648435826690392,
          1.6987365155011647,
          3.2767085780721406,
          0.03220426360373008,
          0.32605972327675037,
          -3.711456923219514,
          1.2438597378095162,
          -0.8211872237215867,
          -13.054501616140524,
          -11.339666040005147,
          -11.520809648232754,
          -6.569516216778492,
          -10.385638532293918,
          -6.581592047837981,
          -12.704290230744808,
          -16.403671322904835,
          -19.942031097046254,
          -19.233555724770056,
          -22.808149134425182,
          -19.958136300015717,
          -19.49118369126459,
          -20.50156712469854,
          -16.339262795697373,
          -18.93567089318704,
          -13.799210623930392,
          -13.002175062327769,
          -10.34538166720541,
          -10.99750111375889,
          -10.123981193889332,
          -15.200062307848516,
          -11.311485005976142,
          -14.173573671445094,
          -15.7837499976198,
          -17.176555222388423,
          -16.9632073505571,
          -13.811286454989869,
          -15.224213969967494,
          -11.67780159434132,
          -7.346429488172035,
          -15.17188741615475,
          -12.941789764695056,
          -8.95660581434674,
          -8.167616711893633,
          -7.491345603221166,
          -7.2981261639340715,
          -8.711053678911696,
          -8.272282104189532,
          -8.541985901743576,
          -1.8114483669464776,
          -4.093872572218904,
          0.6360203859193225,
          2.3548853339646847,
          3.461875415874549,
          2.334756901420443,
          4.8466280391584515,
          5.317610019819541,
          3.8644194974182255,
          0.24152890586035536,
          -3.1237398615381995,
          0.6682246495230082,
          -3.055308104756005,
          -1.5779720625709315,
          -2.9667479154295684,
          -3.8845479299623342,
          -12.325897811320063,
          -11.778437614727244,
          -11.613393067133881,
          -10.904917694857685,
          -11.082038073510535,
          -11.158522431777474,
          -11.903225297232146,
          -12.257466054537858,
          -13.99645943512745,
          4.8546867829784235,
          8.360842293516125,
          5.671850777125265,
          4.468235619733751,
          3.6752232877058866,
          0.5756412306218595,
          0.2254237028909145,
          -2.246196712093851,
          1.215684846115872,
          16.14604335641041,
          19.5193647252937,
          29.305210364846857,
          40.89042854028706,
          32.23170141518803,
          32.936153557889455,
          25.263664346440606,
          29.103938324075006,
          36.3577782510107,
          39.28025221411233,
          37.68215171899711,
          36.72007775213637,
          41.92094040626522,
          36.29739909571323,
          36.152489122999334,
          34.00290520171656,
          38.94211665977612,
          43.744464604271286,
          41.462046541334075,
          44.0826001586075,
          48.73600875847879,
          56.678207909816926,
          56.90766098461773,
          61.41614732710463,
          70.98864509482645,
          68.30368295034557,
          75.60180911427972,
          86.3859562138721,
          93.16479707290719,
          77.17172857536599,
          75.57765745216076,
          69.49520999200716,
          73.33548396964156,
          86.08807752462435,
          82.80734571697748,
          73.76217971330423,
          68.02592655130684
         ]
        }
       ],
       "layout": {
        "height": 500,
        "template": {
         "data": {
          "bar": [
           {
            "error_x": {
             "color": "#2a3f5f"
            },
            "error_y": {
             "color": "#2a3f5f"
            },
            "marker": {
             "line": {
              "color": "white",
              "width": 0.5
             },
             "pattern": {
              "fillmode": "overlay",
              "size": 10,
              "solidity": 0.2
             }
            },
            "type": "bar"
           }
          ],
          "barpolar": [
           {
            "marker": {
             "line": {
              "color": "white",
              "width": 0.5
             },
             "pattern": {
              "fillmode": "overlay",
              "size": 10,
              "solidity": 0.2
             }
            },
            "type": "barpolar"
           }
          ],
          "carpet": [
           {
            "aaxis": {
             "endlinecolor": "#2a3f5f",
             "gridcolor": "#C8D4E3",
             "linecolor": "#C8D4E3",
             "minorgridcolor": "#C8D4E3",
             "startlinecolor": "#2a3f5f"
            },
            "baxis": {
             "endlinecolor": "#2a3f5f",
             "gridcolor": "#C8D4E3",
             "linecolor": "#C8D4E3",
             "minorgridcolor": "#C8D4E3",
             "startlinecolor": "#2a3f5f"
            },
            "type": "carpet"
           }
          ],
          "choropleth": [
           {
            "colorbar": {
             "outlinewidth": 0,
             "ticks": ""
            },
            "type": "choropleth"
           }
          ],
          "contour": [
           {
            "colorbar": {
             "outlinewidth": 0,
             "ticks": ""
            },
            "colorscale": [
             [
              0,
              "#0d0887"
             ],
             [
              0.1111111111111111,
              "#46039f"
             ],
             [
              0.2222222222222222,
              "#7201a8"
             ],
             [
              0.3333333333333333,
              "#9c179e"
             ],
             [
              0.4444444444444444,
              "#bd3786"
             ],
             [
              0.5555555555555556,
              "#d8576b"
             ],
             [
              0.6666666666666666,
              "#ed7953"
             ],
             [
              0.7777777777777778,
              "#fb9f3a"
             ],
             [
              0.8888888888888888,
              "#fdca26"
             ],
             [
              1,
              "#f0f921"
             ]
            ],
            "type": "contour"
           }
          ],
          "contourcarpet": [
           {
            "colorbar": {
             "outlinewidth": 0,
             "ticks": ""
            },
            "type": "contourcarpet"
           }
          ],
          "heatmap": [
           {
            "colorbar": {
             "outlinewidth": 0,
             "ticks": ""
            },
            "colorscale": [
             [
              0,
              "#0d0887"
             ],
             [
              0.1111111111111111,
              "#46039f"
             ],
             [
              0.2222222222222222,
              "#7201a8"
             ],
             [
              0.3333333333333333,
              "#9c179e"
             ],
             [
              0.4444444444444444,
              "#bd3786"
             ],
             [
              0.5555555555555556,
              "#d8576b"
             ],
             [
              0.6666666666666666,
              "#ed7953"
             ],
             [
              0.7777777777777778,
              "#fb9f3a"
             ],
             [
              0.8888888888888888,
              "#fdca26"
             ],
             [
              1,
              "#f0f921"
             ]
            ],
            "type": "heatmap"
           }
          ],
          "heatmapgl": [
           {
            "colorbar": {
             "outlinewidth": 0,
             "ticks": ""
            },
            "colorscale": [
             [
              0,
              "#0d0887"
             ],
             [
              0.1111111111111111,
              "#46039f"
             ],
             [
              0.2222222222222222,
              "#7201a8"
             ],
             [
              0.3333333333333333,
              "#9c179e"
             ],
             [
              0.4444444444444444,
              "#bd3786"
             ],
             [
              0.5555555555555556,
              "#d8576b"
             ],
             [
              0.6666666666666666,
              "#ed7953"
             ],
             [
              0.7777777777777778,
              "#fb9f3a"
             ],
             [
              0.8888888888888888,
              "#fdca26"
             ],
             [
              1,
              "#f0f921"
             ]
            ],
            "type": "heatmapgl"
           }
          ],
          "histogram": [
           {
            "marker": {
             "pattern": {
              "fillmode": "overlay",
              "size": 10,
              "solidity": 0.2
             }
            },
            "type": "histogram"
           }
          ],
          "histogram2d": [
           {
            "colorbar": {
             "outlinewidth": 0,
             "ticks": ""
            },
            "colorscale": [
             [
              0,
              "#0d0887"
             ],
             [
              0.1111111111111111,
              "#46039f"
             ],
             [
              0.2222222222222222,
              "#7201a8"
             ],
             [
              0.3333333333333333,
              "#9c179e"
             ],
             [
              0.4444444444444444,
              "#bd3786"
             ],
             [
              0.5555555555555556,
              "#d8576b"
             ],
             [
              0.6666666666666666,
              "#ed7953"
             ],
             [
              0.7777777777777778,
              "#fb9f3a"
             ],
             [
              0.8888888888888888,
              "#fdca26"
             ],
             [
              1,
              "#f0f921"
             ]
            ],
            "type": "histogram2d"
           }
          ],
          "histogram2dcontour": [
           {
            "colorbar": {
             "outlinewidth": 0,
             "ticks": ""
            },
            "colorscale": [
             [
              0,
              "#0d0887"
             ],
             [
              0.1111111111111111,
              "#46039f"
             ],
             [
              0.2222222222222222,
              "#7201a8"
             ],
             [
              0.3333333333333333,
              "#9c179e"
             ],
             [
              0.4444444444444444,
              "#bd3786"
             ],
             [
              0.5555555555555556,
              "#d8576b"
             ],
             [
              0.6666666666666666,
              "#ed7953"
             ],
             [
              0.7777777777777778,
              "#fb9f3a"
             ],
             [
              0.8888888888888888,
              "#fdca26"
             ],
             [
              1,
              "#f0f921"
             ]
            ],
            "type": "histogram2dcontour"
           }
          ],
          "mesh3d": [
           {
            "colorbar": {
             "outlinewidth": 0,
             "ticks": ""
            },
            "type": "mesh3d"
           }
          ],
          "parcoords": [
           {
            "line": {
             "colorbar": {
              "outlinewidth": 0,
              "ticks": ""
             }
            },
            "type": "parcoords"
           }
          ],
          "pie": [
           {
            "automargin": true,
            "type": "pie"
           }
          ],
          "scatter": [
           {
            "fillpattern": {
             "fillmode": "overlay",
             "size": 10,
             "solidity": 0.2
            },
            "type": "scatter"
           }
          ],
          "scatter3d": [
           {
            "line": {
             "colorbar": {
              "outlinewidth": 0,
              "ticks": ""
             }
            },
            "marker": {
             "colorbar": {
              "outlinewidth": 0,
              "ticks": ""
             }
            },
            "type": "scatter3d"
           }
          ],
          "scattercarpet": [
           {
            "marker": {
             "colorbar": {
              "outlinewidth": 0,
              "ticks": ""
             }
            },
            "type": "scattercarpet"
           }
          ],
          "scattergeo": [
           {
            "marker": {
             "colorbar": {
              "outlinewidth": 0,
              "ticks": ""
             }
            },
            "type": "scattergeo"
           }
          ],
          "scattergl": [
           {
            "marker": {
             "colorbar": {
              "outlinewidth": 0,
              "ticks": ""
             }
            },
            "type": "scattergl"
           }
          ],
          "scattermapbox": [
           {
            "marker": {
             "colorbar": {
              "outlinewidth": 0,
              "ticks": ""
             }
            },
            "type": "scattermapbox"
           }
          ],
          "scatterpolar": [
           {
            "marker": {
             "colorbar": {
              "outlinewidth": 0,
              "ticks": ""
             }
            },
            "type": "scatterpolar"
           }
          ],
          "scatterpolargl": [
           {
            "marker": {
             "colorbar": {
              "outlinewidth": 0,
              "ticks": ""
             }
            },
            "type": "scatterpolargl"
           }
          ],
          "scatterternary": [
           {
            "marker": {
             "colorbar": {
              "outlinewidth": 0,
              "ticks": ""
             }
            },
            "type": "scatterternary"
           }
          ],
          "surface": [
           {
            "colorbar": {
             "outlinewidth": 0,
             "ticks": ""
            },
            "colorscale": [
             [
              0,
              "#0d0887"
             ],
             [
              0.1111111111111111,
              "#46039f"
             ],
             [
              0.2222222222222222,
              "#7201a8"
             ],
             [
              0.3333333333333333,
              "#9c179e"
             ],
             [
              0.4444444444444444,
              "#bd3786"
             ],
             [
              0.5555555555555556,
              "#d8576b"
             ],
             [
              0.6666666666666666,
              "#ed7953"
             ],
             [
              0.7777777777777778,
              "#fb9f3a"
             ],
             [
              0.8888888888888888,
              "#fdca26"
             ],
             [
              1,
              "#f0f921"
             ]
            ],
            "type": "surface"
           }
          ],
          "table": [
           {
            "cells": {
             "fill": {
              "color": "#EBF0F8"
             },
             "line": {
              "color": "white"
             }
            },
            "header": {
             "fill": {
              "color": "#C8D4E3"
             },
             "line": {
              "color": "white"
             }
            },
            "type": "table"
           }
          ]
         },
         "layout": {
          "annotationdefaults": {
           "arrowcolor": "#2a3f5f",
           "arrowhead": 0,
           "arrowwidth": 1
          },
          "autotypenumbers": "strict",
          "coloraxis": {
           "colorbar": {
            "outlinewidth": 0,
            "ticks": ""
           }
          },
          "colorscale": {
           "diverging": [
            [
             0,
             "#8e0152"
            ],
            [
             0.1,
             "#c51b7d"
            ],
            [
             0.2,
             "#de77ae"
            ],
            [
             0.3,
             "#f1b6da"
            ],
            [
             0.4,
             "#fde0ef"
            ],
            [
             0.5,
             "#f7f7f7"
            ],
            [
             0.6,
             "#e6f5d0"
            ],
            [
             0.7,
             "#b8e186"
            ],
            [
             0.8,
             "#7fbc41"
            ],
            [
             0.9,
             "#4d9221"
            ],
            [
             1,
             "#276419"
            ]
           ],
           "sequential": [
            [
             0,
             "#0d0887"
            ],
            [
             0.1111111111111111,
             "#46039f"
            ],
            [
             0.2222222222222222,
             "#7201a8"
            ],
            [
             0.3333333333333333,
             "#9c179e"
            ],
            [
             0.4444444444444444,
             "#bd3786"
            ],
            [
             0.5555555555555556,
             "#d8576b"
            ],
            [
             0.6666666666666666,
             "#ed7953"
            ],
            [
             0.7777777777777778,
             "#fb9f3a"
            ],
            [
             0.8888888888888888,
             "#fdca26"
            ],
            [
             1,
             "#f0f921"
            ]
           ],
           "sequentialminus": [
            [
             0,
             "#0d0887"
            ],
            [
             0.1111111111111111,
             "#46039f"
            ],
            [
             0.2222222222222222,
             "#7201a8"
            ],
            [
             0.3333333333333333,
             "#9c179e"
            ],
            [
             0.4444444444444444,
             "#bd3786"
            ],
            [
             0.5555555555555556,
             "#d8576b"
            ],
            [
             0.6666666666666666,
             "#ed7953"
            ],
            [
             0.7777777777777778,
             "#fb9f3a"
            ],
            [
             0.8888888888888888,
             "#fdca26"
            ],
            [
             1,
             "#f0f921"
            ]
           ]
          },
          "colorway": [
           "#636efa",
           "#EF553B",
           "#00cc96",
           "#ab63fa",
           "#FFA15A",
           "#19d3f3",
           "#FF6692",
           "#B6E880",
           "#FF97FF",
           "#FECB52"
          ],
          "font": {
           "color": "#2a3f5f"
          },
          "geo": {
           "bgcolor": "white",
           "lakecolor": "white",
           "landcolor": "white",
           "showlakes": true,
           "showland": true,
           "subunitcolor": "#C8D4E3"
          },
          "hoverlabel": {
           "align": "left"
          },
          "hovermode": "closest",
          "mapbox": {
           "style": "light"
          },
          "paper_bgcolor": "white",
          "plot_bgcolor": "white",
          "polar": {
           "angularaxis": {
            "gridcolor": "#EBF0F8",
            "linecolor": "#EBF0F8",
            "ticks": ""
           },
           "bgcolor": "white",
           "radialaxis": {
            "gridcolor": "#EBF0F8",
            "linecolor": "#EBF0F8",
            "ticks": ""
           }
          },
          "scene": {
           "xaxis": {
            "backgroundcolor": "white",
            "gridcolor": "#DFE8F3",
            "gridwidth": 2,
            "linecolor": "#EBF0F8",
            "showbackground": true,
            "ticks": "",
            "zerolinecolor": "#EBF0F8"
           },
           "yaxis": {
            "backgroundcolor": "white",
            "gridcolor": "#DFE8F3",
            "gridwidth": 2,
            "linecolor": "#EBF0F8",
            "showbackground": true,
            "ticks": "",
            "zerolinecolor": "#EBF0F8"
           },
           "zaxis": {
            "backgroundcolor": "white",
            "gridcolor": "#DFE8F3",
            "gridwidth": 2,
            "linecolor": "#EBF0F8",
            "showbackground": true,
            "ticks": "",
            "zerolinecolor": "#EBF0F8"
           }
          },
          "shapedefaults": {
           "line": {
            "color": "#2a3f5f"
           }
          },
          "ternary": {
           "aaxis": {
            "gridcolor": "#DFE8F3",
            "linecolor": "#A2B1C6",
            "ticks": ""
           },
           "baxis": {
            "gridcolor": "#DFE8F3",
            "linecolor": "#A2B1C6",
            "ticks": ""
           },
           "bgcolor": "white",
           "caxis": {
            "gridcolor": "#DFE8F3",
            "linecolor": "#A2B1C6",
            "ticks": ""
           }
          },
          "title": {
           "x": 0.05
          },
          "xaxis": {
           "automargin": true,
           "gridcolor": "#EBF0F8",
           "linecolor": "#EBF0F8",
           "ticks": "",
           "title": {
            "standoff": 15
           },
           "zerolinecolor": "#EBF0F8",
           "zerolinewidth": 2
          },
          "yaxis": {
           "automargin": true,
           "gridcolor": "#EBF0F8",
           "linecolor": "#EBF0F8",
           "ticks": "",
           "title": {
            "standoff": 15
           },
           "zerolinecolor": "#EBF0F8",
           "zerolinewidth": 2
          }
         }
        },
        "title": {
         "text": "TSLA Cumulative Returns"
        },
        "xaxis": {
         "title": {
          "text": "Date"
         }
        },
        "yaxis": {
         "title": {
          "text": "Return (%)"
         }
        }
       }
      }
     },
     "metadata": {},
     "output_type": "display_data"
    }
   ],
   "source": [
    "plot = agent.invoke(\"Let's visualize the return of Tesla stock in 2024?\")"
   ]
  },
  {
   "cell_type": "markdown",
   "metadata": {},
   "source": [
    "# 3. Register function tool"
   ]
  },
  {
   "cell_type": "markdown",
   "metadata": {},
   "source": [
    "Function tools are registered directly in your runtime code by decorating them with the @function_tool without saving them into python module files."
   ]
  },
  {
   "cell_type": "code",
   "execution_count": 6,
   "metadata": {},
   "outputs": [
    {
     "name": "stderr",
     "output_type": "stream",
     "text": [
      "INFO:root:Registered tool: sum_of_series (runtime)\n"
     ]
    }
   ],
   "source": [
    "import json\n",
    "import os\n",
    "from functools import wraps\n",
    "from typing import Dict, Any\n",
    "import inspect\n",
    "from pathlib import Path\n",
    "from agentools.register.tool import function_tool\n",
    "from typing import List\n",
    "\n",
    "@function_tool\n",
    "def sum_of_series(x: List[float]):\n",
    "    return f\"Sum of list is {sum(x)}\""
   ]
  },
  {
   "cell_type": "code",
   "execution_count": 7,
   "metadata": {},
   "outputs": [
    {
     "name": "stderr",
     "output_type": "stream",
     "text": [
      "INFO:httpx:HTTP Request: POST https://api.together.xyz/v1/chat/completions \"HTTP/1.1 200 OK\"\n"
     ]
    },
    {
     "data": {
      "text/plain": [
       "'Sum of list is 55'"
      ]
     },
     "execution_count": 7,
     "metadata": {},
     "output_type": "execute_result"
    }
   ],
   "source": [
    "agent.invoke(\"Sum of this list: [1, 2, 3, 4, 5, 6, 7, 8, 9, 10]?\")"
   ]
  }
 ],
 "metadata": {
  "kernelspec": {
   "display_name": "base",
   "language": "python",
   "name": "python3"
  },
  "language_info": {
   "codemirror_mode": {
    "name": "ipython",
    "version": 3
   },
   "file_extension": ".py",
   "mimetype": "text/x-python",
   "name": "python",
   "nbconvert_exporter": "python",
   "pygments_lexer": "ipython3",
   "version": "3.10.10"
  }
 },
 "nbformat": 4,
 "nbformat_minor": 2
}
